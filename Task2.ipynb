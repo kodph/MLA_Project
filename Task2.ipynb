{
 "cells": [
  {
   "cell_type": "markdown",
   "id": "497f09eb-7ba9-411e-830c-eb93cbf5e9a8",
   "metadata": {},
   "source": [
    "# Task 2\n",
    "## Main objective\n",
    "Analyze the Mobile network and GNSS quality and coverage and show its structure in different regions in Europe within the long-term data.\n",
    "- [ ] Identify and combine relevant features (e.g. time stamps of data generation and transmission) and position data for your analysis\n",
    "- [ ] Analyze and plot the statistical behavior of your features\n",
    "- [ ] Be creative on the creation of new features as indicators for the Mobile network quality\n",
    "- [ ] Fuse the data with geographic information and display your results in a geo-specific heatmap\n",
    "- [ ] Be aware of appropriate aggregation and clustering of the high volume data\n",
    "- [ ] Evaluate the errors and uncertainties of your analysis\n",
    "- [ ] Interpret anomalies and trends in the analysis results\n",
    "- [ ] Optional: The integration of OpenRailway maps can help to interpret your results\n",
    "- [ ] If data-related difficulties or impossibilities arise concerning the task, describe reasons and possible solutions"
   ]
  }
 ],
 "metadata": {
  "kernelspec": {
   "display_name": "Python 3 (ipykernel)",
   "language": "python",
   "name": "python3"
  },
  "language_info": {
   "codemirror_mode": {
    "name": "ipython",
    "version": 3
   },
   "file_extension": ".py",
   "mimetype": "text/x-python",
   "name": "python",
   "nbconvert_exporter": "python",
   "pygments_lexer": "ipython3",
   "version": "3.10.1"
  }
 },
 "nbformat": 4,
 "nbformat_minor": 5
}
