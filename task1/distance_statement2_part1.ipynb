{
 "cells": [
  {
   "cell_type": "code",
   "execution_count": 1,
   "id": "66193062-1cc8-46bc-8065-e12721dd4d2a",
   "metadata": {},
   "outputs": [],
   "source": [
    "import pandas as pd\n",
    "import numpy as np\n",
    "from operator import itemgetter, attrgetter\n",
    "from geopy.distance import geodesic\n",
    "from geopy import distance\n",
    "import datetime\n",
    "import math\n",
    "from math import radians, cos, sin, asin, sqrt, ceil\n",
    "from numpy import nan as NaN"
   ]
  },
  {
   "cell_type": "markdown",
   "id": "80e64152-ad43-4176-9706-f935d3e8cedb",
   "metadata": {},
   "source": [
    "Concatenate data and perform sum calculations in groups"
   ]
  },
  {
   "cell_type": "code",
   "execution_count": 2,
   "id": "767120fc-4988-470d-8c78-bbe48acc0423",
   "metadata": {},
   "outputs": [],
   "source": [
    "\n",
    "df_sum = pd.read_csv('01_Output_TUDA_data.csv')\n",
    "for index in range(2,46):  \n",
    "    df_zwischen=pd.read_csv(\"{:02}_Output_TUDA_data.csv\".format(index))\n",
    "    df_sum=pd.concat([df_sum,df_zwischen],ignore_index=True)\n",
    "df_sum.groupby([\"wagon_ID\",\"loading_state\"],as_index=False).agg({'Distance':'sum'}).to_csv(\"distance.csv\")\n"
   ]
  },
  {
   "cell_type": "code",
   "execution_count": 6,
   "id": "83427748-3eb8-4411-a751-7fc0da16a1ae",
   "metadata": {},
   "outputs": [
    {
     "name": "stdout",
     "output_type": "stream",
     "text": [
      "  loading_state      Distance\n",
      "0       Beladen  1.676947e+12\n",
      "1          Leer  1.209239e+12\n"
     ]
    }
   ],
   "source": [
    "distance=df_sum.groupby([\"loading_state\"],as_index=False).agg({'Distance':'sum'})\n",
    "print (distance)"
   ]
  },
  {
   "cell_type": "code",
   "execution_count": null,
   "id": "bb51cf8c-634a-4466-af5a-a79ed781efaf",
   "metadata": {},
   "outputs": [],
   "source": []
  }
 ],
 "metadata": {
  "kernelspec": {
   "display_name": "Python 3 (ipykernel)",
   "language": "python",
   "name": "python3"
  },
  "language_info": {
   "codemirror_mode": {
    "name": "ipython",
    "version": 3
   },
   "file_extension": ".py",
   "mimetype": "text/x-python",
   "name": "python",
   "nbconvert_exporter": "python",
   "pygments_lexer": "ipython3",
   "version": "3.9.7"
  }
 },
 "nbformat": 4,
 "nbformat_minor": 5
}
