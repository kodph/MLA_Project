{
 "cells": [
  {
   "cell_type": "markdown",
   "id": "8aa4b27c",
   "metadata": {},
   "source": [
    "# Task I: Data Exploration and Statistics"
   ]
  },
  {
   "cell_type": "markdown",
   "id": "b38c6fa6",
   "metadata": {},
   "source": [
    "In the first part you will explore the long-term dataset and answer several questions on its basic structure. Find out the meaning of the various variables, their structure and boundaries as well as the main statistical parameters. This step will provide you with the necessary overview of the several datasets.."
   ]
  },
  {
   "cell_type": "markdown",
   "id": "5ed06dd0",
   "metadata": {},
   "source": [
    "**Main objective**: Identify the usage profile of different wagon types within the long-term dataset. Apply explorative data analysis and statistics. Get started with the following questions:"
   ]
  },
  {
   "cell_type": "markdown",
   "id": "4d456c6e",
   "metadata": {},
   "source": [
    "1.1 How often are the wagons moved? Which differences can be identified between the wagon types?  \n",
    "1.2 Are there seasonal dependencies?   \n",
    "1.3 How much distance do the wagons travel loaded, how much empty? How far do they travel in different countries?   \n",
    "1.4 Does the battery capacity of the telematic device change during the year, what might be the reasons?   \n",
    "1.5 Use your understanding of the data to derive at least one further insight and explain its significance for DB Cargo."
   ]
  }
 ],
 "metadata": {
  "kernelspec": {
   "display_name": "Python 3 (ipykernel)",
   "language": "python",
   "name": "python3"
  },
  "language_info": {
   "codemirror_mode": {
    "name": "ipython",
    "version": 3
   },
   "file_extension": ".py",
   "mimetype": "text/x-python",
   "name": "python",
   "nbconvert_exporter": "python",
   "pygments_lexer": "ipython3",
   "version": "3.9.7"
  }
 },
 "nbformat": 4,
 "nbformat_minor": 5
}
