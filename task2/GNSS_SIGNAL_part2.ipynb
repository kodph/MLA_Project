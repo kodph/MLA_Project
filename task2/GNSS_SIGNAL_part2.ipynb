{
 "cells": [
  {
   "cell_type": "code",
   "execution_count": 3,
   "id": "eaf9ceb9-5e6e-4acb-9608-3885c43741de",
   "metadata": {},
   "outputs": [],
   "source": [
    "import pandas as pd\n",
    "import numpy as np\n",
    "from operator import itemgetter, attrgetter\n",
    "from geopy.distance import geodesic\n",
    "from geopy import distance\n",
    "import datetime\n",
    "import math\n",
    "from math import radians, cos, sin, asin, sqrt, ceil\n",
    "from numpy import nan as NaN\n",
    "import matplotlib.pyplot as plt\n"
   ]
  },
  {
   "cell_type": "markdown",
   "id": "df7cece6-8520-4c31-824d-d5365f2c6075",
   "metadata": {},
   "source": [
    "data preprocessing"
   ]
  },
  {
   "cell_type": "code",
   "execution_count": 4,
   "id": "bb58ed12-5740-4254-b5f5-0592161ffca3",
   "metadata": {},
   "outputs": [],
   "source": [
    "use_cols = ['wagon_ID','altitude','latitude','longitude','signal_quality_satellite', 'signal_quality_hdop', 'determination_position', 'timestamp_measure_position', 'timestamp_transfer', 'timestamp_measure_movement_state', 'timestamp_index']\n",
    "df = pd.read_csv('D:\\\\drittesemester\\\\Machine Learning Applications\\\\000_Data\\\\01_211203_TUDA_data.csv',header=0,usecols=use_cols,dtype={'wagon_ID': str,\n",
    "                                    'altitude': np.float16,\n",
    "                                    'latitude': np.float32,\n",
    "                                    'longitude': np.float32,\n",
    "                                    'signal_quality_satellite': np.float32,\n",
    "                                    'signal_quality_hdop': np.float32,\n",
    "                                    'determination_position': np.uint8,\n",
    "                                    'timestamp_measure_position': str,\n",
    "                                    'timestamp_transfer': str,\n",
    "                                    'timestamp_measure_movement_state': str,\n",
    "                                    'timestamp_index': str})\n",
    "\n",
    "\n",
    "df=df [use_cols]"
   ]
  },
  {
   "cell_type": "markdown",
   "id": "495b9c07-067a-4d91-9a4d-1798c542a6ae",
   "metadata": {},
   "source": [
    "Extract GNSS signal"
   ]
  },
  {
   "cell_type": "code",
   "execution_count": 5,
   "id": "7c99e5a4-818e-4dba-800b-89354d04b70c",
   "metadata": {},
   "outputs": [
    {
     "data": {
      "text/html": [
       "<div>\n",
       "<style scoped>\n",
       "    .dataframe tbody tr th:only-of-type {\n",
       "        vertical-align: middle;\n",
       "    }\n",
       "\n",
       "    .dataframe tbody tr th {\n",
       "        vertical-align: top;\n",
       "    }\n",
       "\n",
       "    .dataframe thead th {\n",
       "        text-align: right;\n",
       "    }\n",
       "</style>\n",
       "<table border=\"1\" class=\"dataframe\">\n",
       "  <thead>\n",
       "    <tr style=\"text-align: right;\">\n",
       "      <th></th>\n",
       "      <th>wagon_ID</th>\n",
       "      <th>altitude</th>\n",
       "      <th>latitude</th>\n",
       "      <th>longitude</th>\n",
       "      <th>signal_quality_satellite</th>\n",
       "      <th>signal_quality_hdop</th>\n",
       "      <th>determination_position</th>\n",
       "      <th>timestamp_measure_position</th>\n",
       "      <th>timestamp_transfer</th>\n",
       "      <th>timestamp_measure_movement_state</th>\n",
       "      <th>timestamp_index</th>\n",
       "    </tr>\n",
       "  </thead>\n",
       "  <tbody>\n",
       "    <tr>\n",
       "      <th>12176687</th>\n",
       "      <td>'1017603232983914'</td>\n",
       "      <td>224.0</td>\n",
       "      <td>50.025391</td>\n",
       "      <td>10.218802</td>\n",
       "      <td>5.0</td>\n",
       "      <td>3.0</td>\n",
       "      <td>1</td>\n",
       "      <td>3 days 15:18:10</td>\n",
       "      <td>3 days 15:18:18.737000</td>\n",
       "      <td>NaT</td>\n",
       "      <td>3 days 15:18:21</td>\n",
       "    </tr>\n",
       "    <tr>\n",
       "      <th>12176691</th>\n",
       "      <td>'1017603230354522'</td>\n",
       "      <td>-114.0</td>\n",
       "      <td>51.704350</td>\n",
       "      <td>6.979754</td>\n",
       "      <td>4.0</td>\n",
       "      <td>5.0</td>\n",
       "      <td>1</td>\n",
       "      <td>3 days 11:11:24</td>\n",
       "      <td>3 days 11:11:40.491000</td>\n",
       "      <td>NaT</td>\n",
       "      <td>3 days 11:11:43</td>\n",
       "    </tr>\n",
       "    <tr>\n",
       "      <th>12176692</th>\n",
       "      <td>'1017603248383943'</td>\n",
       "      <td>43.0</td>\n",
       "      <td>50.944016</td>\n",
       "      <td>7.020907</td>\n",
       "      <td>5.0</td>\n",
       "      <td>13.0</td>\n",
       "      <td>1</td>\n",
       "      <td>2 days 23:40:57</td>\n",
       "      <td>2 days 23:41:12.765000</td>\n",
       "      <td>NaT</td>\n",
       "      <td>2 days 23:41:15</td>\n",
       "    </tr>\n",
       "    <tr>\n",
       "      <th>12176693</th>\n",
       "      <td>'697603222334427'</td>\n",
       "      <td>175.0</td>\n",
       "      <td>52.248024</td>\n",
       "      <td>10.545093</td>\n",
       "      <td>3.0</td>\n",
       "      <td>3.0</td>\n",
       "      <td>1</td>\n",
       "      <td>3 days 14:49:47</td>\n",
       "      <td>3 days 14:50:04.454000</td>\n",
       "      <td>NaT</td>\n",
       "      <td>3 days 14:50:07</td>\n",
       "    </tr>\n",
       "    <tr>\n",
       "      <th>12176695</th>\n",
       "      <td>'697603212906457'</td>\n",
       "      <td>294.0</td>\n",
       "      <td>49.418098</td>\n",
       "      <td>11.105467</td>\n",
       "      <td>3.0</td>\n",
       "      <td>3.0</td>\n",
       "      <td>1</td>\n",
       "      <td>3 days 19:18:45</td>\n",
       "      <td>3 days 19:19:00.179000</td>\n",
       "      <td>NaT</td>\n",
       "      <td>3 days 19:19:02</td>\n",
       "    </tr>\n",
       "  </tbody>\n",
       "</table>\n",
       "</div>"
      ],
      "text/plain": [
       "                    wagon_ID  altitude   latitude  longitude  \\\n",
       "12176687  '1017603232983914'     224.0  50.025391  10.218802   \n",
       "12176691  '1017603230354522'    -114.0  51.704350   6.979754   \n",
       "12176692  '1017603248383943'      43.0  50.944016   7.020907   \n",
       "12176693   '697603222334427'     175.0  52.248024  10.545093   \n",
       "12176695   '697603212906457'     294.0  49.418098  11.105467   \n",
       "\n",
       "          signal_quality_satellite  signal_quality_hdop  \\\n",
       "12176687                       5.0                  3.0   \n",
       "12176691                       4.0                  5.0   \n",
       "12176692                       5.0                 13.0   \n",
       "12176693                       3.0                  3.0   \n",
       "12176695                       3.0                  3.0   \n",
       "\n",
       "          determination_position timestamp_measure_position  \\\n",
       "12176687                       1            3 days 15:18:10   \n",
       "12176691                       1            3 days 11:11:24   \n",
       "12176692                       1            2 days 23:40:57   \n",
       "12176693                       1            3 days 14:49:47   \n",
       "12176695                       1            3 days 19:18:45   \n",
       "\n",
       "              timestamp_transfer timestamp_measure_movement_state  \\\n",
       "12176687  3 days 15:18:18.737000                              NaT   \n",
       "12176691  3 days 11:11:40.491000                              NaT   \n",
       "12176692  2 days 23:41:12.765000                              NaT   \n",
       "12176693  3 days 14:50:04.454000                              NaT   \n",
       "12176695  3 days 19:19:00.179000                              NaT   \n",
       "\n",
       "          timestamp_index  \n",
       "12176687  3 days 15:18:21  \n",
       "12176691  3 days 11:11:43  \n",
       "12176692  2 days 23:41:15  \n",
       "12176693  3 days 14:50:07  \n",
       "12176695  3 days 19:19:02  "
      ]
     },
     "execution_count": 5,
     "metadata": {},
     "output_type": "execute_result"
    }
   ],
   "source": [
    "df_new=df.loc[df['determination_position']==1]\n",
    "df_new.tail()"
   ]
  },
  {
   "cell_type": "markdown",
   "id": "f648a79a-6e51-4e55-89d5-6bf6eea139a6",
   "metadata": {},
   "source": [
    "Make a scatterplot of correlated features"
   ]
  },
  {
   "cell_type": "code",
   "execution_count": 25,
   "id": "7f8e7596-84de-4ad3-926a-ace92768b03e",
   "metadata": {},
   "outputs": [
    {
     "data": {
      "text/html": [
       "<div>\n",
       "<style scoped>\n",
       "    .dataframe tbody tr th:only-of-type {\n",
       "        vertical-align: middle;\n",
       "    }\n",
       "\n",
       "    .dataframe tbody tr th {\n",
       "        vertical-align: top;\n",
       "    }\n",
       "\n",
       "    .dataframe thead th {\n",
       "        text-align: right;\n",
       "    }\n",
       "</style>\n",
       "<table border=\"1\" class=\"dataframe\">\n",
       "  <thead>\n",
       "    <tr style=\"text-align: right;\">\n",
       "      <th></th>\n",
       "      <th>signal_quality_satellite</th>\n",
       "      <th>signal_quality_hdop</th>\n",
       "    </tr>\n",
       "  </thead>\n",
       "  <tbody>\n",
       "    <tr>\n",
       "      <th>0</th>\n",
       "      <td>12.0</td>\n",
       "      <td>1.2</td>\n",
       "    </tr>\n",
       "    <tr>\n",
       "      <th>1</th>\n",
       "      <td>11.0</td>\n",
       "      <td>2.1</td>\n",
       "    </tr>\n",
       "    <tr>\n",
       "      <th>2</th>\n",
       "      <td>11.0</td>\n",
       "      <td>2.0</td>\n",
       "    </tr>\n",
       "    <tr>\n",
       "      <th>3</th>\n",
       "      <td>11.0</td>\n",
       "      <td>1.3</td>\n",
       "    </tr>\n",
       "    <tr>\n",
       "      <th>4</th>\n",
       "      <td>12.0</td>\n",
       "      <td>0.9</td>\n",
       "    </tr>\n",
       "  </tbody>\n",
       "</table>\n",
       "</div>"
      ],
      "text/plain": [
       "   signal_quality_satellite  signal_quality_hdop\n",
       "0                      12.0                  1.2\n",
       "1                      11.0                  2.1\n",
       "2                      11.0                  2.0\n",
       "3                      11.0                  1.3\n",
       "4                      12.0                  0.9"
      ]
     },
     "execution_count": 25,
     "metadata": {},
     "output_type": "execute_result"
    }
   ],
   "source": [
    "X=df_new[['signal_quality_satellite','signal_quality_hdop']]\n",
    "X.head()"
   ]
  },
  {
   "cell_type": "code",
   "execution_count": 7,
   "id": "7bcfbdfe-f05c-4385-ab87-73790fdec8fd",
   "metadata": {},
   "outputs": [
    {
     "data": {
      "image/png": "[encoded data removed]",
      "text/plain": [
       "<Figure size 432x288 with 1 Axes>"
      ]
     },
     "metadata": {
      "needs_background": "light"
     },
     "output_type": "display_data"
    }
   ],
   "source": [
    "X.plot.scatter(x='signal_quality_satellite',y='signal_quality_hdop')\n",
    "plt.title('Example dataset for K-Means')\n",
    "plt.xlabel('satellite')\n",
    "plt.ylabel('hdop')\n",
    "plt.show()"
   ]
  },
  {
   "cell_type": "markdown",
   "id": "813b056c-51b2-4f86-9e12-f008b66dbad5",
   "metadata": {},
   "source": [
    "Clustering with k-means"
   ]
  },
  {
   "cell_type": "code",
   "execution_count": 26,
   "id": "8d0d8167-8a9e-42d5-9de6-f1aa29a0d857",
   "metadata": {},
   "outputs": [
    {
     "name": "stdout",
     "output_type": "stream",
     "text": [
      "[[12.   1.2]\n",
      " [11.   2.1]\n",
      " [11.   2. ]\n",
      " ...\n",
      " [ 5.  13. ]\n",
      " [ 3.   3. ]\n",
      " [ 3.   3. ]]\n"
     ]
    }
   ],
   "source": [
    "f1 = X.values\n",
    "\n",
    "print(f1)"
   ]
  },
  {
   "cell_type": "code",
   "execution_count": 27,
   "id": "8ad2796c-9097-4a6b-ac30-d6e8270ae4a3",
   "metadata": {},
   "outputs": [],
   "source": [
    "class K_means:\n",
    "\tdef __init__(self, number_of_centroids, dataset, max_iter = 10):\n",
    "\t\tself.number_of_centroids = number_of_centroids\n",
    "\t\tself.dataset = dataset\n",
    "\t\tself.number_of_features = dataset.shape[1]\n",
    "\t\tself.number_of_examples = dataset.shape[0]\n",
    "\t\tself.centroids = self.initialize_centroids()\n",
    "\t\tself.clusters = np.zeros(shape =(self.number_of_examples,1))\n",
    "\t\tself.cost = np.inf\n",
    "\t\tself.max_iter = max_iter\n",
    "\t\n",
    "\tdef initialize_centroids(self):\n",
    "\t\tcentroids = np.random.randint(low = -10, high = 10 , size=(self.number_of_centroids, 2))\n",
    "\t\treturn centroids\n",
    "\t\n",
    "\tdef compute_cost(self):\n",
    "\t\tdistances = 0\n",
    "\t\tfor k in range(self.number_of_centroids):\n",
    "\t\t\tclusters = self.clusters == k\n",
    "\t\t\tdistances += np.sum((self.dataset[clusters[:, 0]] - self.centroids[k])**2)\n",
    "\t\tself.cost = distances\n",
    "\n",
    "\tdef cluster_assignment_step(self): \n",
    "\t\tfor i in range(self.number_of_examples):\n",
    "\t\t\tdistances = np.zeros(shape=(self.number_of_centroids, 1))\n",
    "\t\t\tfor j in range(self.number_of_centroids):\n",
    "\t\t\t\tdistances[j] = np.sum((self.dataset[i] - self.centroids[j])**2)\n",
    "\t\t\tself.clusters[i] = np.argmin(distances)\n",
    "\n",
    "\tdef move_centroids_step(self):\n",
    "\t\tfor k in range(self.number_of_centroids):\n",
    "\t\t\tcluster_data = self.clusters == k\n",
    "\t\t\tif(self.dataset[cluster_data[:, 0]].size != 0):\n",
    "\t\t\t\tself.centroids[k]= np.mean(self.dataset[cluster_data[:, 0]], axis =0) \n",
    "\t\t\telse:\n",
    "\t\t\t\tself.centroids[k] = np.random.randint(low = -10, high = 10 , size=(1, 2))\n",
    "\t\n",
    "\tdef run_kmeans(self):\n",
    "\t\tfor i in range(self.max_iter):\n",
    "\t\t\tself.cluster_assignment_step()\n",
    "\t\t\tself.compute_cost()\n",
    "\t\t\tself.move_centroids_step()\n",
    "\t\tprint(self.cost)\n",
    "\t\treturn self.clusters\n",
    "\t\n",
    "\tdef run_kmeans_verbose(self):\n",
    "\t\told_cendroids_equal_new_cendroids = False\n",
    "\t\tfor i in range(self.max_iter):\n",
    "\t\t\tif(not old_cendroids_equal_new_cendroids):\n",
    "\t\t\t\tself.cluster_assignment_step()\n",
    "\t\t\t\tcolors = ['r', 'b']#, 'g']\n",
    "\t\t\t\tccolors = ['darkred', 'darkblue']#, 'darkgreen']\n",
    "\t\t\t\tfor k, col in enumerate(colors):\n",
    "\t\t\t\t\tcluster_data = self.clusters ==k\n",
    "\t\t\t\t\tplt.scatter(self.dataset[cluster_data[:, 0]][:, 0], self.dataset[cluster_data[:, 0]][:, 1], c = col)\n",
    "\t\t\t\t\tplt.scatter(self.centroids[k][0], self.centroids[k][1], c = ccolors[k], marker = 'X')\n",
    "\t\t\t\tplt.title('Example dataset for K-Means' + ' iteration #' + str(i+1))\n",
    "\t\t\t\tplt.xlabel('x1')\n",
    "\t\t\t\tplt.ylabel('x2')\n",
    "\t\t\t\tplt.show()\n",
    "\t\t\t\tself.compute_cost()\n",
    "\t\t\t\told_cendroids = np.copy(self.centroids)\n",
    "\t\t\t\tself.move_centroids_step()\n",
    "\t\t\t\told_cendroids_equal_new_cendroids = np.array_equal(old_cendroids ,self.centroids)\n",
    "\t\t\telse:\n",
    "\t\t\t\t#Runs one last iteration to update correct values\n",
    "\t\t\t\tself.cluster_assignment_step()\n",
    "\t\t\t\tcolors = ['r', 'b']#, 'g']\n",
    "\t\t\t\tccolors = ['darkred', 'darkblue']#, 'darkgreen']\n",
    "\t\t\t\tfor k, col in enumerate(colors):\n",
    "\t\t\t\t\tcluster_data = self.clusters ==k\n",
    "\t\t\t\t\tplt.scatter(self.dataset[cluster_data[:, 0]][:, 0], self.dataset[cluster_data[:, 0]][:, 1], c = col)\n",
    "\t\t\t\t\tplt.scatter(self.centroids[k][0], self.centroids[k][1], c = ccolors[k], marker = 'X')\n",
    "\t\t\t\tplt.title('Example dataset for K-Means' + ' iteration #' + str(i+1))\n",
    "\t\t\t\tplt.xlabel('x1')\n",
    "\t\t\t\tplt.ylabel('x2')\n",
    "\t\t\t\tplt.show()\n",
    "\t\t\t\tself.compute_cost()\n",
    "\t\t\t\tbreak\n",
    "\t\tprint(self.cost)\n",
    "\t\treturn self.clusters"
   ]
  },
  {
   "cell_type": "code",
   "execution_count": 28,
   "id": "ca56f14d-f6dd-47d0-826b-1b609b1a46ab",
   "metadata": {},
   "outputs": [
    {
     "data": {
      "image/png": "[encoded data removed]",
      "text/plain": [
       "<Figure size 432x288 with 1 Axes>"
      ]
     },
     "metadata": {
      "needs_background": "light"
     },
     "output_type": "display_data"
    },
    {
     "data": {
      "image/png": "[encoded data removed]",
      "text/plain": [
       "<Figure size 432x288 with 1 Axes>"
      ]
     },
     "metadata": {
      "needs_background": "light"
     },
     "output_type": "display_data"
    },
    {
     "data": {
      "image/png": "[encoded data removed]",
      "text/plain": [
       "<Figure size 432x288 with 1 Axes>"
      ]
     },
     "metadata": {
      "needs_background": "light"
     },
     "output_type": "display_data"
    },
    {
     "data": {
      "image/png": "[encoded data removed]",
      "text/plain": [
       "<Figure size 432x288 with 1 Axes>"
      ]
     },
     "metadata": {
      "needs_background": "light"
     },
     "output_type": "display_data"
    },
    {
     "data": {
      "image/png": "[encoded data removed]",
      "text/plain": [
       "<Figure size 432x288 with 1 Axes>"
      ]
     },
     "metadata": {
      "needs_background": "light"
     },
     "output_type": "display_data"
    },
    {
     "data": {
      "image/png": "[encoded data removed]",
      "text/plain": [
       "<Figure size 432x288 with 1 Axes>"
      ]
     },
     "metadata": {
      "needs_background": "light"
     },
     "output_type": "display_data"
    },
    {
     "name": "stdout",
     "output_type": "stream",
     "text": [
      "94225551.24817538\n"
     ]
    }
   ],
   "source": [
    "kmeans = K_means(2, f1)\n",
    "clusters = kmeans.run_kmeans_verbose()"
   ]
  },
  {
   "cell_type": "markdown",
   "id": "a53e2b26-35b8-42b8-84ce-f03d9e4ec592",
   "metadata": {},
   "source": [
    "the statistical behavior of your features"
   ]
  },
  {
   "cell_type": "code",
   "execution_count": 4,
   "id": "61788e22-a907-4f27-a387-d131f6f12188",
   "metadata": {},
   "outputs": [
    {
     "data": {
      "text/plain": [
       "count   7228958.00\n",
       "mean          2.88\n",
       "std           2.61\n",
       "min           0.00\n",
       "25%           2.00\n",
       "50%           2.00\n",
       "75%           3.00\n",
       "max         255.00\n",
       "Name: signal_quality_hdop, dtype: float64"
      ]
     },
     "execution_count": 4,
     "metadata": {},
     "output_type": "execute_result"
    }
   ],
   "source": [
    "pd.set_option('display.float_format',lambda x :'%.2f' % x)\n",
    "hdop=df_new['signal_quality_hdop']\n",
    "hdop.describe()"
   ]
  },
  {
   "cell_type": "code",
   "execution_count": 5,
   "id": "c30c24ec-5c08-4a2e-8b7e-1696cdd00477",
   "metadata": {},
   "outputs": [
    {
     "data": {
      "text/plain": [
       "count   7228958.00\n",
       "mean          7.55\n",
       "std           2.66\n",
       "min           0.00\n",
       "25%           5.00\n",
       "50%           8.00\n",
       "75%          10.00\n",
       "max          22.00\n",
       "Name: signal_quality_satellite, dtype: float64"
      ]
     },
     "execution_count": 5,
     "metadata": {},
     "output_type": "execute_result"
    }
   ],
   "source": [
    "sqs=df_new['signal_quality_satellite']\n",
    "sqs.describe()"
   ]
  },
  {
   "cell_type": "markdown",
   "id": "f6155b48-86fb-4ac7-83da-9afcd02309f0",
   "metadata": {},
   "source": [
    "good singal and  interpret results on OpenRailway maps（according to the statistical behavior）"
   ]
  },
  {
   "cell_type": "code",
   "execution_count": 7,
   "id": "bd0c34e2-29ab-4480-92af-3874e4080dcd",
   "metadata": {},
   "outputs": [],
   "source": [
    "import folium\n",
    "import webbrowser\n",
    "from folium.plugins import HeatMap"
   ]
  },
  {
   "cell_type": "code",
   "execution_count": 17,
   "id": "a012a4a4-7511-4301-ab67-b7e2a234f55e",
   "metadata": {},
   "outputs": [
    {
     "data": {
      "text/html": [
       "<div>\n",
       "<style scoped>\n",
       "    .dataframe tbody tr th:only-of-type {\n",
       "        vertical-align: middle;\n",
       "    }\n",
       "\n",
       "    .dataframe tbody tr th {\n",
       "        vertical-align: top;\n",
       "    }\n",
       "\n",
       "    .dataframe thead th {\n",
       "        text-align: right;\n",
       "    }\n",
       "</style>\n",
       "<table border=\"1\" class=\"dataframe\">\n",
       "  <thead>\n",
       "    <tr style=\"text-align: right;\">\n",
       "      <th></th>\n",
       "      <th>wagon_ID</th>\n",
       "      <th>altitude</th>\n",
       "      <th>latitude</th>\n",
       "      <th>longitude</th>\n",
       "      <th>signal_quality_satellite</th>\n",
       "      <th>signal_quality_hdop</th>\n",
       "      <th>determination_position</th>\n",
       "      <th>timestamp_measure_position</th>\n",
       "      <th>timestamp_transfer</th>\n",
       "      <th>timestamp_measure_movement_state</th>\n",
       "      <th>timestamp_index</th>\n",
       "    </tr>\n",
       "  </thead>\n",
       "  <tbody>\n",
       "    <tr>\n",
       "      <th>12174064</th>\n",
       "      <td>'1017603280753938'</td>\n",
       "      <td>17.00</td>\n",
       "      <td>53.52</td>\n",
       "      <td>10.00</td>\n",
       "      <td>14.00</td>\n",
       "      <td>1.00</td>\n",
       "      <td>1</td>\n",
       "      <td>5 days 05:02:07</td>\n",
       "      <td>5 days 05:02:14.723000</td>\n",
       "      <td>NaT</td>\n",
       "      <td>5 days 05:02:16</td>\n",
       "    </tr>\n",
       "    <tr>\n",
       "      <th>12174069</th>\n",
       "      <td>'1017603280753938'</td>\n",
       "      <td>26.00</td>\n",
       "      <td>53.52</td>\n",
       "      <td>10.00</td>\n",
       "      <td>15.00</td>\n",
       "      <td>1.00</td>\n",
       "      <td>1</td>\n",
       "      <td>5 days 04:52:07</td>\n",
       "      <td>5 days 04:52:15.024000</td>\n",
       "      <td>NaT</td>\n",
       "      <td>5 days 04:52:16</td>\n",
       "    </tr>\n",
       "    <tr>\n",
       "      <th>12174091</th>\n",
       "      <td>'1017603280753938'</td>\n",
       "      <td>0.00</td>\n",
       "      <td>53.41</td>\n",
       "      <td>10.05</td>\n",
       "      <td>11.00</td>\n",
       "      <td>1.00</td>\n",
       "      <td>1</td>\n",
       "      <td>4 days 19:08:07</td>\n",
       "      <td>4 days 19:08:15.455000</td>\n",
       "      <td>NaT</td>\n",
       "      <td>4 days 19:08:17</td>\n",
       "    </tr>\n",
       "    <tr>\n",
       "      <th>12174104</th>\n",
       "      <td>'1017603280753938'</td>\n",
       "      <td>16.00</td>\n",
       "      <td>53.41</td>\n",
       "      <td>10.05</td>\n",
       "      <td>14.00</td>\n",
       "      <td>1.00</td>\n",
       "      <td>1</td>\n",
       "      <td>2 days 23:44:01</td>\n",
       "      <td>2 days 23:44:11.937000</td>\n",
       "      <td>NaT</td>\n",
       "      <td>2 days 23:44:13</td>\n",
       "    </tr>\n",
       "    <tr>\n",
       "      <th>12174869</th>\n",
       "      <td>'1017603235133939'</td>\n",
       "      <td>252.00</td>\n",
       "      <td>49.35</td>\n",
       "      <td>7.16</td>\n",
       "      <td>13.00</td>\n",
       "      <td>1.00</td>\n",
       "      <td>1</td>\n",
       "      <td>3 days 00:14:39</td>\n",
       "      <td>3 days 00:14:46.165000</td>\n",
       "      <td>NaT</td>\n",
       "      <td>3 days 00:14:48</td>\n",
       "    </tr>\n",
       "  </tbody>\n",
       "</table>\n",
       "</div>"
      ],
      "text/plain": [
       "                    wagon_ID  altitude  latitude  longitude  \\\n",
       "12174064  '1017603280753938'     17.00     53.52      10.00   \n",
       "12174069  '1017603280753938'     26.00     53.52      10.00   \n",
       "12174091  '1017603280753938'      0.00     53.41      10.05   \n",
       "12174104  '1017603280753938'     16.00     53.41      10.05   \n",
       "12174869  '1017603235133939'    252.00     49.35       7.16   \n",
       "\n",
       "          signal_quality_satellite  signal_quality_hdop  \\\n",
       "12174064                     14.00                 1.00   \n",
       "12174069                     15.00                 1.00   \n",
       "12174091                     11.00                 1.00   \n",
       "12174104                     14.00                 1.00   \n",
       "12174869                     13.00                 1.00   \n",
       "\n",
       "          determination_position timestamp_measure_position  \\\n",
       "12174064                       1            5 days 05:02:07   \n",
       "12174069                       1            5 days 04:52:07   \n",
       "12174091                       1            4 days 19:08:07   \n",
       "12174104                       1            2 days 23:44:01   \n",
       "12174869                       1            3 days 00:14:39   \n",
       "\n",
       "              timestamp_transfer timestamp_measure_movement_state  \\\n",
       "12174064  5 days 05:02:14.723000                              NaT   \n",
       "12174069  5 days 04:52:15.024000                              NaT   \n",
       "12174091  4 days 19:08:15.455000                              NaT   \n",
       "12174104  2 days 23:44:11.937000                              NaT   \n",
       "12174869  3 days 00:14:46.165000                              NaT   \n",
       "\n",
       "          timestamp_index  \n",
       "12174064  5 days 05:02:16  \n",
       "12174069  5 days 04:52:16  \n",
       "12174091  4 days 19:08:17  \n",
       "12174104  2 days 23:44:13  \n",
       "12174869  3 days 00:14:48  "
      ]
     },
     "execution_count": 17,
     "metadata": {},
     "output_type": "execute_result"
    }
   ],
   "source": [
    "data=df_new.loc[(df_new['signal_quality_satellite']>10) & (df_new['signal_quality_hdop']<2)]\n",
    "data.tail()"
   ]
  },
  {
   "cell_type": "code",
   "execution_count": 19,
   "id": "1d0e2966-a472-4c45-9c66-69a5396397fd",
   "metadata": {},
   "outputs": [],
   "source": [
    "m = folium.Map(location=[data['latitude'].mean(), data['longitude'].mean()],\n",
    "               zoom_start=6,\n",
    "               language=\"en\",\n",
    "               min_lat=20,\n",
    "               max_lat=80,\n",
    "               min_lon=70,\n",
    "               max_lon=-20,\n",
    "               tiles='https://a.tiles.openrailwaymap.org/standard/{z}/{x}/{y}.png',\n",
    "               attr='default')\n",
    "lat = np.array(data['latitude'][0:len(data)])\n",
    "lon = np.array(data['longitude'][0:len(data)])\n",
    "\n",
    "new_data = [[lat[i], lon[i]] for i in range(len(data))]\n",
    "HeatMap(new_data, radius=15).add_to(m)\n",
    "m.save('good_signal.html')\n",
    "#web.get('chrome').open('test_result27_1.html')"
   ]
  },
  {
   "cell_type": "markdown",
   "id": "99094088-f9e1-473b-8e44-940828c440a2",
   "metadata": {},
   "source": [
    "bad singal and  interpret results on OpenRailway maps"
   ]
  },
  {
   "cell_type": "code",
   "execution_count": 24,
   "id": "258aa5e8-5a77-402d-8dc5-b30777325d3b",
   "metadata": {},
   "outputs": [
    {
     "data": {
      "text/html": [
       "<div>\n",
       "<style scoped>\n",
       "    .dataframe tbody tr th:only-of-type {\n",
       "        vertical-align: middle;\n",
       "    }\n",
       "\n",
       "    .dataframe tbody tr th {\n",
       "        vertical-align: top;\n",
       "    }\n",
       "\n",
       "    .dataframe thead th {\n",
       "        text-align: right;\n",
       "    }\n",
       "</style>\n",
       "<table border=\"1\" class=\"dataframe\">\n",
       "  <thead>\n",
       "    <tr style=\"text-align: right;\">\n",
       "      <th></th>\n",
       "      <th>wagon_ID</th>\n",
       "      <th>altitude</th>\n",
       "      <th>latitude</th>\n",
       "      <th>longitude</th>\n",
       "      <th>signal_quality_satellite</th>\n",
       "      <th>signal_quality_hdop</th>\n",
       "      <th>determination_position</th>\n",
       "      <th>timestamp_measure_position</th>\n",
       "      <th>timestamp_transfer</th>\n",
       "      <th>timestamp_measure_movement_state</th>\n",
       "      <th>timestamp_index</th>\n",
       "    </tr>\n",
       "  </thead>\n",
       "  <tbody>\n",
       "    <tr>\n",
       "      <th>12176610</th>\n",
       "      <td>'697603275442473'</td>\n",
       "      <td>138.00</td>\n",
       "      <td>59.65</td>\n",
       "      <td>12.65</td>\n",
       "      <td>2.00</td>\n",
       "      <td>5.00</td>\n",
       "      <td>1</td>\n",
       "      <td>3 days 04:15:58</td>\n",
       "      <td>3 days 04:16:14.470000</td>\n",
       "      <td>NaT</td>\n",
       "      <td>3 days 04:16:16</td>\n",
       "    </tr>\n",
       "    <tr>\n",
       "      <th>12176667</th>\n",
       "      <td>'697603228322475'</td>\n",
       "      <td>47.00</td>\n",
       "      <td>56.03</td>\n",
       "      <td>12.72</td>\n",
       "      <td>1.00</td>\n",
       "      <td>4.00</td>\n",
       "      <td>1</td>\n",
       "      <td>3 days 08:00:19</td>\n",
       "      <td>3 days 08:00:34.019000</td>\n",
       "      <td>NaT</td>\n",
       "      <td>3 days 08:00:36</td>\n",
       "    </tr>\n",
       "    <tr>\n",
       "      <th>12176679</th>\n",
       "      <td>'1017603241343936'</td>\n",
       "      <td>37.00</td>\n",
       "      <td>51.46</td>\n",
       "      <td>6.75</td>\n",
       "      <td>3.00</td>\n",
       "      <td>4.00</td>\n",
       "      <td>1</td>\n",
       "      <td>3 days 10:16:31</td>\n",
       "      <td>3 days 10:16:47.445000</td>\n",
       "      <td>NaT</td>\n",
       "      <td>3 days 10:16:51</td>\n",
       "    </tr>\n",
       "    <tr>\n",
       "      <th>12176680</th>\n",
       "      <td>'1017603238114522'</td>\n",
       "      <td>-74.00</td>\n",
       "      <td>51.70</td>\n",
       "      <td>6.98</td>\n",
       "      <td>4.00</td>\n",
       "      <td>8.00</td>\n",
       "      <td>1</td>\n",
       "      <td>3 days 13:37:36</td>\n",
       "      <td>3 days 13:38:23.439000</td>\n",
       "      <td>NaT</td>\n",
       "      <td>3 days 13:38:26</td>\n",
       "    </tr>\n",
       "    <tr>\n",
       "      <th>12176691</th>\n",
       "      <td>'1017603230354522'</td>\n",
       "      <td>-114.00</td>\n",
       "      <td>51.70</td>\n",
       "      <td>6.98</td>\n",
       "      <td>4.00</td>\n",
       "      <td>5.00</td>\n",
       "      <td>1</td>\n",
       "      <td>3 days 11:11:24</td>\n",
       "      <td>3 days 11:11:40.491000</td>\n",
       "      <td>NaT</td>\n",
       "      <td>3 days 11:11:43</td>\n",
       "    </tr>\n",
       "  </tbody>\n",
       "</table>\n",
       "</div>"
      ],
      "text/plain": [
       "                    wagon_ID  altitude  latitude  longitude  \\\n",
       "12176610   '697603275442473'    138.00     59.65      12.65   \n",
       "12176667   '697603228322475'     47.00     56.03      12.72   \n",
       "12176679  '1017603241343936'     37.00     51.46       6.75   \n",
       "12176680  '1017603238114522'    -74.00     51.70       6.98   \n",
       "12176691  '1017603230354522'   -114.00     51.70       6.98   \n",
       "\n",
       "          signal_quality_satellite  signal_quality_hdop  \\\n",
       "12176610                      2.00                 5.00   \n",
       "12176667                      1.00                 4.00   \n",
       "12176679                      3.00                 4.00   \n",
       "12176680                      4.00                 8.00   \n",
       "12176691                      4.00                 5.00   \n",
       "\n",
       "          determination_position timestamp_measure_position  \\\n",
       "12176610                       1            3 days 04:15:58   \n",
       "12176667                       1            3 days 08:00:19   \n",
       "12176679                       1            3 days 10:16:31   \n",
       "12176680                       1            3 days 13:37:36   \n",
       "12176691                       1            3 days 11:11:24   \n",
       "\n",
       "              timestamp_transfer timestamp_measure_movement_state  \\\n",
       "12176610  3 days 04:16:14.470000                              NaT   \n",
       "12176667  3 days 08:00:34.019000                              NaT   \n",
       "12176679  3 days 10:16:47.445000                              NaT   \n",
       "12176680  3 days 13:38:23.439000                              NaT   \n",
       "12176691  3 days 11:11:40.491000                              NaT   \n",
       "\n",
       "          timestamp_index  \n",
       "12176610  3 days 04:16:16  \n",
       "12176667  3 days 08:00:36  \n",
       "12176679  3 days 10:16:51  \n",
       "12176680  3 days 13:38:26  \n",
       "12176691  3 days 11:11:43  "
      ]
     },
     "execution_count": 24,
     "metadata": {},
     "output_type": "execute_result"
    }
   ],
   "source": [
    "data1=df_new.loc[(df_new['signal_quality_satellite']<5) & (df_new['signal_quality_hdop']>3)]\n",
    "data1.tail()"
   ]
  },
  {
   "cell_type": "code",
   "execution_count": 25,
   "id": "8d21e7ee-e480-44dd-84a5-8426b545efd8",
   "metadata": {},
   "outputs": [],
   "source": [
    "m = folium.Map(location=[data1['latitude'].mean(), data1['longitude'].mean()],\n",
    "               zoom_start=6,\n",
    "               language=\"en\",\n",
    "               min_lat=20,\n",
    "               max_lat=80,\n",
    "               min_lon=70,\n",
    "               max_lon=-20,\n",
    "               tiles='https://a.tiles.openrailwaymap.org/standard/{z}/{x}/{y}.png',\n",
    "               attr='default')\n",
    "lat = np.array(data1['latitude'][0:len(data1)])\n",
    "lon = np.array(data1['longitude'][0:len(data1)])\n",
    "\n",
    "new_data1 = [[lat[i], lon[i]] for i in range(len(data1))]\n",
    "HeatMap(new_data1, radius=15).add_to(m)\n",
    "m.save('bad_signal.html')\n",
    "#web.get('chrome').open('test_result27_1.html')"
   ]
  },
  {
   "cell_type": "code",
   "execution_count": null,
   "id": "833b925c-ec49-42eb-920e-82b195a7ab2e",
   "metadata": {},
   "outputs": [],
   "source": []
  }
 ],
 "metadata": {
  "kernelspec": {
   "display_name": "Python 3 (ipykernel)",
   "language": "python",
   "name": "python3"
  },
  "language_info": {
   "codemirror_mode": {
    "name": "ipython",
    "version": 3
   },
   "file_extension": ".py",
   "mimetype": "text/x-python",
   "name": "python",
   "nbconvert_exporter": "python",
   "pygments_lexer": "ipython3",
   "version": "3.9.7"
  }
 },
 "nbformat": 4,
 "nbformat_minor": 5
}
