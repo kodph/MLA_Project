{
 "cells": [
  {
   "cell_type": "markdown",
   "id": "18a80d0b",
   "metadata": {},
   "source": [
    "# Data exploration\n",
    "Since the positioning functions of GNSS and Mobile Network work independently of each other and do not affect each other, the Mobile Network part is extracted separately for analysis and exploration.  \n",
    "We extracted a file from the long-term data as the object of analysis to find whether there are **some features** included in the source file that can meet the task requirements."
   ]
  },
  {
   "cell_type": "code",
   "execution_count": 1,
   "id": "009f175b",
   "metadata": {},
   "outputs": [],
   "source": [
    "import pandas as pd\n",
    "import numpy as np\n",
    "import matplotlib.pyplot as plt\n",
    "import folium\n",
    "import webbrowser as web\n",
    "from folium.plugins import HeatMap\n",
    "import seaborn as sns\n",
    "import sklearn.preprocessing as preprocessing\n",
    "import plotly.express as px\n",
    "import warnings"
   ]
  },
  {
   "cell_type": "code",
   "execution_count": 2,
   "id": "341fea65",
   "metadata": {},
   "outputs": [],
   "source": [
    "warnings.filterwarnings('ignore')"
   ]
  },
  {
   "cell_type": "code",
   "execution_count": 3,
   "id": "825b955d",
   "metadata": {},
   "outputs": [
    {
     "name": "stdout",
     "output_type": "stream",
     "text": [
      "loading_finish\n"
     ]
    }
   ],
   "source": [
    "# 01_211203_TUDA_data.csv\n",
    "dtype = {'wagon_ID': str,\n",
    "         'timestamp_measure_position': str,\n",
    "         'timestamp_transfer': str,\n",
    "         'determination_position': int,\n",
    "         'timestamp_index': str,\n",
    "         'latitude': float,\n",
    "         'longitude': float}\n",
    "\n",
    "use_cols = ['determination_position',\n",
    "            'wagon_ID',\n",
    "            'timestamp_measure_position',\n",
    "            'timestamp_transfer',\n",
    "            'timestamp_index',\n",
    "            'latitude',\n",
    "            'longitude']\n",
    "\n",
    "wagon_info = pd.read_csv('/Users/dong/Downloads/000_Data/01_211203_TUDA_data.csv', dtype=dtype, usecols=use_cols)\n",
    "print('loading_finish')"
   ]
  },
  {
   "cell_type": "code",
   "execution_count": 4,
   "id": "142668ec",
   "metadata": {},
   "outputs": [],
   "source": [
    "# Extract the data with 'determination'=4，Location determined by Mobile Network\n",
    "wagon_info = wagon_info[wagon_info['determination_position'] == 4]"
   ]
  },
  {
   "cell_type": "markdown",
   "id": "a2fa698f",
   "metadata": {},
   "source": [
    "Based on the source files, the data known to be potentially relevant to Mobile Network are：\n",
    "\n",
    "**1.'timestamp_transfer'**  \n",
    "**2.'timestamp_measure_position'**  \n",
    "**3.'timestamp_index'**  \n",
    "  \n",
    "Using the above known data two new FEATURES can be obtained：**'time_gap'** and **'delay'**.  \n",
    "It is assumed that the smaller the 'time_gap' or 'delay' is, the better the quality of the location provided by Mobile Network."
   ]
  },
  {
   "cell_type": "code",
   "execution_count": 5,
   "id": "7fd567f9",
   "metadata": {},
   "outputs": [],
   "source": [
    "# Convert time format\n",
    "wagon_info['timestamp_measure_position'] = wagon_info['timestamp_measure_position'].dropna()\n",
    "wagon_info['timestamp_transfer'] = wagon_info['timestamp_transfer'].dropna()\n",
    "wagon_info['timestamp_index'] = wagon_info['timestamp_index'].dropna()\n",
    "wagon_info['timestamp_measure_position'] = pd.to_timedelta(wagon_info['timestamp_measure_position'])\n",
    "wagon_info['timestamp_transfer'] = pd.to_timedelta(wagon_info['timestamp_transfer'])\n",
    "wagon_info['timestamp_index'] = pd.to_timedelta(wagon_info['timestamp_index'])\n",
    "\n",
    "# Conversion time in hours\n",
    "wagon_info['time_gap'] = (wagon_info['timestamp_transfer'] - wagon_info['timestamp_measure_position']).apply(lambda x: x.total_seconds() / 3600)\n",
    "wagon_info['delay'] = (wagon_info['timestamp_index'] - wagon_info['timestamp_transfer']).apply(lambda x: x.total_seconds() / 3600)"
   ]
  },
  {
   "cell_type": "code",
   "execution_count": 6,
   "id": "67ec0e35",
   "metadata": {},
   "outputs": [
    {
     "data": {
      "text/html": [
       "<div>\n",
       "<style scoped>\n",
       "    .dataframe tbody tr th:only-of-type {\n",
       "        vertical-align: middle;\n",
       "    }\n",
       "\n",
       "    .dataframe tbody tr th {\n",
       "        vertical-align: top;\n",
       "    }\n",
       "\n",
       "    .dataframe thead th {\n",
       "        text-align: right;\n",
       "    }\n",
       "</style>\n",
       "<table border=\"1\" class=\"dataframe\">\n",
       "  <thead>\n",
       "    <tr style=\"text-align: right;\">\n",
       "      <th></th>\n",
       "      <th>latitude</th>\n",
       "      <th>longitude</th>\n",
       "      <th>determination_position</th>\n",
       "      <th>timestamp_measure_position</th>\n",
       "      <th>timestamp_transfer</th>\n",
       "      <th>timestamp_index</th>\n",
       "      <th>time_gap</th>\n",
       "      <th>delay</th>\n",
       "    </tr>\n",
       "  </thead>\n",
       "  <tbody>\n",
       "    <tr>\n",
       "      <th>count</th>\n",
       "      <td>4.947738e+06</td>\n",
       "      <td>4.947738e+06</td>\n",
       "      <td>4947738.0</td>\n",
       "      <td>4947738</td>\n",
       "      <td>4947738</td>\n",
       "      <td>4947738</td>\n",
       "      <td>4.947738e+06</td>\n",
       "      <td>4.947738e+06</td>\n",
       "    </tr>\n",
       "    <tr>\n",
       "      <th>mean</th>\n",
       "      <td>5.080483e+01</td>\n",
       "      <td>9.350705e+00</td>\n",
       "      <td>4.0</td>\n",
       "      <td>6 days 09:35:35.977249077</td>\n",
       "      <td>6 days 15:50:15.520763763</td>\n",
       "      <td>6 days 15:50:23.602550297</td>\n",
       "      <td>6.244318e+00</td>\n",
       "      <td>2.244941e-03</td>\n",
       "    </tr>\n",
       "    <tr>\n",
       "      <th>std</th>\n",
       "      <td>2.324987e+00</td>\n",
       "      <td>2.973541e+00</td>\n",
       "      <td>0.0</td>\n",
       "      <td>1 days 23:34:22.807144737</td>\n",
       "      <td>2 days 00:07:34.338620302</td>\n",
       "      <td>2 days 00:07:34.114038086</td>\n",
       "      <td>7.490625e+00</td>\n",
       "      <td>8.070431e-02</td>\n",
       "    </tr>\n",
       "    <tr>\n",
       "      <th>min</th>\n",
       "      <td>3.803515e+01</td>\n",
       "      <td>-4.120857e+00</td>\n",
       "      <td>4.0</td>\n",
       "      <td>2 days 23:00:00</td>\n",
       "      <td>2 days 23:00:02.991000</td>\n",
       "      <td>2 days 23:00:06</td>\n",
       "      <td>0.000000e+00</td>\n",
       "      <td>3.888889e-06</td>\n",
       "    </tr>\n",
       "    <tr>\n",
       "      <th>25%</th>\n",
       "      <td>4.945983e+01</td>\n",
       "      <td>7.167376e+00</td>\n",
       "      <td>4.0</td>\n",
       "      <td>4 days 16:30:06</td>\n",
       "      <td>4 days 22:45:07.524000</td>\n",
       "      <td>4 days 22:45:10</td>\n",
       "      <td>5.734167e-01</td>\n",
       "      <td>5.013889e-04</td>\n",
       "    </tr>\n",
       "    <tr>\n",
       "      <th>50%</th>\n",
       "      <td>5.136495e+01</td>\n",
       "      <td>8.654176e+00</td>\n",
       "      <td>4.0</td>\n",
       "      <td>6 days 09:29:01</td>\n",
       "      <td>6 days 14:49:08.989000</td>\n",
       "      <td>6 days 14:49:13</td>\n",
       "      <td>3.964429e+00</td>\n",
       "      <td>6.861111e-04</td>\n",
       "    </tr>\n",
       "    <tr>\n",
       "      <th>75%</th>\n",
       "      <td>5.167260e+01</td>\n",
       "      <td>1.108489e+01</td>\n",
       "      <td>4.0</td>\n",
       "      <td>8 days 01:52:44</td>\n",
       "      <td>8 days 08:13:14.002000</td>\n",
       "      <td>8 days 08:13:20</td>\n",
       "      <td>9.846241e+00</td>\n",
       "      <td>1.479722e-03</td>\n",
       "    </tr>\n",
       "    <tr>\n",
       "      <th>max</th>\n",
       "      <td>6.780103e+01</td>\n",
       "      <td>2.865417e+01</td>\n",
       "      <td>4.0</td>\n",
       "      <td>9 days 22:59:59</td>\n",
       "      <td>10 days 10:00:28.555000</td>\n",
       "      <td>10 days 10:00:31</td>\n",
       "      <td>1.776100e+02</td>\n",
       "      <td>6.627198e+01</td>\n",
       "    </tr>\n",
       "  </tbody>\n",
       "</table>\n",
       "</div>"
      ],
      "text/plain": [
       "           latitude     longitude  determination_position  \\\n",
       "count  4.947738e+06  4.947738e+06               4947738.0   \n",
       "mean   5.080483e+01  9.350705e+00                     4.0   \n",
       "std    2.324987e+00  2.973541e+00                     0.0   \n",
       "min    3.803515e+01 -4.120857e+00                     4.0   \n",
       "25%    4.945983e+01  7.167376e+00                     4.0   \n",
       "50%    5.136495e+01  8.654176e+00                     4.0   \n",
       "75%    5.167260e+01  1.108489e+01                     4.0   \n",
       "max    6.780103e+01  2.865417e+01                     4.0   \n",
       "\n",
       "      timestamp_measure_position         timestamp_transfer  \\\n",
       "count                    4947738                    4947738   \n",
       "mean   6 days 09:35:35.977249077  6 days 15:50:15.520763763   \n",
       "std    1 days 23:34:22.807144737  2 days 00:07:34.338620302   \n",
       "min              2 days 23:00:00     2 days 23:00:02.991000   \n",
       "25%              4 days 16:30:06     4 days 22:45:07.524000   \n",
       "50%              6 days 09:29:01     6 days 14:49:08.989000   \n",
       "75%              8 days 01:52:44     8 days 08:13:14.002000   \n",
       "max              9 days 22:59:59    10 days 10:00:28.555000   \n",
       "\n",
       "                 timestamp_index      time_gap         delay  \n",
       "count                    4947738  4.947738e+06  4.947738e+06  \n",
       "mean   6 days 15:50:23.602550297  6.244318e+00  2.244941e-03  \n",
       "std    2 days 00:07:34.114038086  7.490625e+00  8.070431e-02  \n",
       "min              2 days 23:00:06  0.000000e+00  3.888889e-06  \n",
       "25%              4 days 22:45:10  5.734167e-01  5.013889e-04  \n",
       "50%              6 days 14:49:13  3.964429e+00  6.861111e-04  \n",
       "75%              8 days 08:13:20  9.846241e+00  1.479722e-03  \n",
       "max             10 days 10:00:31  1.776100e+02  6.627198e+01  "
      ]
     },
     "execution_count": 6,
     "metadata": {},
     "output_type": "execute_result"
    }
   ],
   "source": [
    "wagon_info.describe()"
   ]
  },
  {
   "cell_type": "code",
   "execution_count": 7,
   "id": "de523db3",
   "metadata": {},
   "outputs": [
    {
     "data": {
      "text/plain": [
       "<AxesSubplot:xlabel='delay', ylabel='Density'>"
      ]
     },
     "execution_count": 7,
     "metadata": {},
     "output_type": "execute_result"
    },
    {
     "data": {
      "image/png": "[encoded data removed]",
      "text/plain": [
       "<Figure size 864x432 with 1 Axes>"
      ]
     },
     "metadata": {
      "needs_background": "light"
     },
     "output_type": "display_data"
    }
   ],
   "source": [
    "# Density probability distribution diagram about 'delay'\n",
    "plt.figure(figsize=(12, 6))\n",
    "sns.distplot(wagon_info['delay'], norm_hist=False, color=\"b\", label=\"delay\")"
   ]
  },
  {
   "cell_type": "markdown",
   "id": "a56de5ae",
   "metadata": {},
   "source": [
    "In feature 'delay', according to the statistics and density probability histogram, more than 75% of the data are less than the mean value, which does not conform to the law of normal distribution, so it is not suitable as a relevant feature."
   ]
  },
  {
   "cell_type": "code",
   "execution_count": 8,
   "id": "ff8c54cf",
   "metadata": {},
   "outputs": [
    {
     "data": {
      "text/plain": [
       "<AxesSubplot:xlabel='time_gap', ylabel='Density'>"
      ]
     },
     "execution_count": 8,
     "metadata": {},
     "output_type": "execute_result"
    },
    {
     "data": {
      "image/png": "[encoded data removed]",
      "text/plain": [
       "<Figure size 864x432 with 1 Axes>"
      ]
     },
     "metadata": {
      "needs_background": "light"
     },
     "output_type": "display_data"
    }
   ],
   "source": [
    "# ensity probability distribution diagram about 'time_gap'\n",
    "plt.figure(figsize=(12, 6))\n",
    "sns.distplot(wagon_info['time_gap'], norm_hist=False, color=\"r\", label=\"time_gap\")"
   ]
  },
  {
   "cell_type": "code",
   "execution_count": 9,
   "id": "26c2b07f",
   "metadata": {},
   "outputs": [],
   "source": [
    "# Extracting two different sets of data\n",
    "wagon_info_1 = wagon_info.drop(wagon_info[wagon_info['time_gap'] > 1].index)\n",
    "wagon_info_2 = wagon_info.drop(wagon_info[wagon_info['time_gap'] < 1].index)"
   ]
  },
  {
   "cell_type": "code",
   "execution_count": 10,
   "id": "d9adb193",
   "metadata": {},
   "outputs": [
    {
     "data": {
      "text/plain": [
       "True"
      ]
     },
     "execution_count": 10,
     "metadata": {},
     "output_type": "execute_result"
    }
   ],
   "source": [
    "# create geographic heat map\n",
    "m1 = folium.Map(location=[wagon_info_1['latitude'].mean(), wagon_info_1['longitude'].mean()],\n",
    "               zoom_start=6,\n",
    "               language=\"en\",\n",
    "               tiles='https://a.tiles.openrailwaymap.org/standard/{z}/{x}/{y}.png',\n",
    "               attr='default')\n",
    "lat1 = np.array(wagon_info_1['latitude'][0:len(wagon_info_1)])\n",
    "lon1 = np.array(wagon_info_1['longitude'][0:len(wagon_info_1)])\n",
    "new_data1 = [[lat1[i], lon1[i]] for i in range(len(wagon_info_1))]\n",
    "HeatMap(new_data1, radius=15).add_to(m1)\n",
    "m1.save('/Users/dong/Downloads/result_time_gap<1hours.html')\n",
    "web.open('/Users/dong/Downloads/result_time_gap<1hours.html')\n",
    "\n",
    "m2 = folium.Map(location=[wagon_info_2['latitude'].mean(), wagon_info_2['longitude'].mean()],\n",
    "               zoom_start=6,\n",
    "               language=\"en\",\n",
    "               tiles='https://a.tiles.openrailwaymap.org/standard/{z}/{x}/{y}.png',\n",
    "               attr='default')\n",
    "lat2 = np.array(wagon_info_2['latitude'][0:len(wagon_info_2)])\n",
    "lon2 = np.array(wagon_info_2['longitude'][0:len(wagon_info_2)])\n",
    "new_data2 = [[lat2[i], lon2[i]] for i in range(len(wagon_info_2))]\n",
    "HeatMap(new_data2, radius=15).add_to(m1)\n",
    "m2.save('/Users/dong/Downloads/result_time_gap>1hours.html')\n",
    "web.open('/Users/dong/Downloads/result_time_gap>1hours.html')"
   ]
  },
  {
   "cell_type": "markdown",
   "id": "0aa51265",
   "metadata": {},
   "source": [
    "In the feature \"time_gap\", according to the statistics and the density probability histogram, it conforms to the normal distribution pattern and is suitable as a relevant feature.   \n",
    "However, by the two different sets of extracted data, both presented in the form of a geographical heat map, it is observed that both sets of data have many locations located outside the railroad line and are not significantly different. Therefore, this feature does not fully describe the quality of the mobile network."
   ]
  },
  {
   "cell_type": "markdown",
   "id": "85763b76",
   "metadata": {},
   "source": [
    "## Conclusion"
   ]
  },
  {
   "cell_type": "markdown",
   "id": "7145ab11",
   "metadata": {},
   "source": [
    "By exploring the dataset, the known FEATURES do not meet the task requirements well. Therefore, we need to extract other features that have a possible relationship with Mobile Network."
   ]
  }
 ],
 "metadata": {
  "kernelspec": {
   "display_name": "Python 3 (ipykernel)",
   "language": "python",
   "name": "python3"
  },
  "language_info": {
   "codemirror_mode": {
    "name": "ipython",
    "version": 3
   },
   "file_extension": ".py",
   "mimetype": "text/x-python",
   "name": "python",
   "nbconvert_exporter": "python",
   "pygments_lexer": "ipython3",
   "version": "3.9.7"
  }
 },
 "nbformat": 4,
 "nbformat_minor": 5
}
