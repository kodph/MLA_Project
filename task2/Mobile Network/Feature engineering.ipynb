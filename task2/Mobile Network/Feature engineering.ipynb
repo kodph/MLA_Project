{
 "cells": [
  {
   "cell_type": "markdown",
   "id": "8302889d",
   "metadata": {},
   "source": [
    "# Feature engineering\n",
    "#### We want to find some new features about the quality of Mobile network and determine whether the new features are suitable.  \n",
    "feature 1: distance_velocity  \n",
    "feature 2: ratio"
   ]
  },
  {
   "cell_type": "code",
   "execution_count": 1,
   "id": "092e5d17",
   "metadata": {},
   "outputs": [],
   "source": [
    "import pandas as pd\n",
    "import numpy as np\n",
    "import matplotlib.pyplot as plt\n",
    "import data_loader_sortvalue\n",
    "import math\n",
    "import folium\n",
    "import webbrowser as web\n",
    "from folium.plugins import HeatMap\n",
    "import seaborn as sns\n",
    "import warnings\n",
    "import sklearn.preprocessing as preprocessing\n",
    "from sklearn.cluster import KMeans\n",
    "from scipy.spatial.distance import cdist"
   ]
  },
  {
   "cell_type": "code",
   "execution_count": 2,
   "id": "eba63bba",
   "metadata": {},
   "outputs": [],
   "source": [
    "warnings.filterwarnings('ignore')"
   ]
  },
  {
   "cell_type": "markdown",
   "id": "f425a7ca",
   "metadata": {},
   "source": [
    "### feature 1: distance_velocity  \n",
    "Determine the speed or distance of this line based on the 'movement_state' of the previous data."
   ]
  },
  {
   "cell_type": "code",
   "execution_count": 3,
   "id": "bffb017b",
   "metadata": {},
   "outputs": [],
   "source": [
    "dtype = {'wagon_ID': str,\n",
    "         'timestamp_measure_position': str,\n",
    "         'latitude': float,\n",
    "         'longitude': float,\n",
    "         'up_movement_state': str,  # The 'movement_state' of the previous row\n",
    "         'distance': float,\n",
    "         'velocity': float,\n",
    "         'time':float}\n",
    "use_cols = ['latitude',\n",
    "            'longitude',\n",
    "            'wagon_ID',\n",
    "            'timestamp_measure_position',\n",
    "            'distance',\n",
    "            'velocity',\n",
    "            'up_movement_state',\n",
    "            'time']"
   ]
  },
  {
   "cell_type": "code",
   "execution_count": 4,
   "id": "1752f493",
   "metadata": {},
   "outputs": [
    {
     "name": "stdout",
     "output_type": "stream",
     "text": [
      "loading_finish\n"
     ]
    }
   ],
   "source": [
    "wagon_info = pd.read_csv('../../../data/Task2_celluar/result_01.csv', dtype=dtype, usecols=use_cols)\n",
    "print('loading_finish')"
   ]
  },
  {
   "cell_type": "markdown",
   "id": "ad8ea160",
   "metadata": {},
   "source": [
    "**'up_movement_state'** indicates the movement_state of the previous line. When the movement_state is **moving**, we observe the velocity between the two rows. When the movemen_tstate is **standing** or **parking**, we observe the distance. The velocity should bigger than 0 and smaller than 120km/h. The distance should be close to 0."
   ]
  },
  {
   "cell_type": "code",
   "execution_count": 5,
   "id": "fff73a9c",
   "metadata": {},
   "outputs": [],
   "source": [
    "# Extract the data in the previous row where movement_state is 0 or 1\n",
    "wagon_info['up_movement_state'] = wagon_info['up_movement_state'].dropna().astype(np.float16).astype(np.int8)\n",
    "wagon_info_distance = wagon_info.loc[(wagon_info['up_movement_state'] == 0) | (wagon_info['up_movement_state'] == 1)]\n",
    "wagon_info_distance.loc[wagon_info_distance['distance'] > 10, 'distance'] = 10\n",
    "wagon_info_distance.loc[:, 'velocity'] = 0\n",
    "\n",
    "# Extract the data in the previous row where movement_state is 2\n",
    "wagon_info_velocity = wagon_info.loc[wagon_info['up_movement_state'] == 2]\n",
    "wagon_info_velocity.loc[wagon_info_velocity['velocity'] > 120, 'velocity'] = 120\n",
    "wagon_info_velocity.loc[:, 'distance'] = 0"
   ]
  },
  {
   "cell_type": "code",
   "execution_count": 6,
   "id": "32d88afd",
   "metadata": {},
   "outputs": [
    {
     "data": {
      "text/plain": [
       "<AxesSubplot:xlabel='distance', ylabel='Density'>"
      ]
     },
     "execution_count": 6,
     "metadata": {},
     "output_type": "execute_result"
    },
    {
     "data": {
      "image/png": "[encoded data removed]",
      "text/plain": [
       "<Figure size 864x432 with 1 Axes>"
      ]
     },
     "metadata": {
      "needs_background": "light"
     },
     "output_type": "display_data"
    }
   ],
   "source": [
    "# Density frequency histogram about distance\n",
    "plt.figure(figsize=(12, 6))\n",
    "sns.distplot(wagon_info_distance['distance'], norm_hist=False, color=\"b\", label=\"distance\")"
   ]
  },
  {
   "cell_type": "markdown",
   "id": "e959a97b",
   "metadata": {},
   "source": [
    "When wagon is stationary, the distance is mostly 1 km or less."
   ]
  },
  {
   "cell_type": "code",
   "execution_count": 7,
   "id": "c7454ec4",
   "metadata": {},
   "outputs": [
    {
     "data": {
      "text/plain": [
       "<AxesSubplot:xlabel='velocity', ylabel='Density'>"
      ]
     },
     "execution_count": 7,
     "metadata": {},
     "output_type": "execute_result"
    },
    {
     "data": {
      "image/png": "[encoded data removed]",
      "text/plain": [
       "<Figure size 864x432 with 1 Axes>"
      ]
     },
     "metadata": {
      "needs_background": "light"
     },
     "output_type": "display_data"
    }
   ],
   "source": [
    "# Density frequency histogram about velocity\n",
    "plt.figure(figsize=(12, 6))\n",
    "sns.distplot(wagon_info_velocity['velocity'], norm_hist=False, color=\"r\", label=\"velocity\")"
   ]
  },
  {
   "cell_type": "markdown",
   "id": "3e1e4b19",
   "metadata": {},
   "source": [
    "More than half of the velocity is 0 or greater than 120 during the movement, which is not possible."
   ]
  },
  {
   "cell_type": "code",
   "execution_count": 8,
   "id": "40995a00",
   "metadata": {},
   "outputs": [
    {
     "data": {
      "text/html": [
       "<div>\n",
       "<style scoped>\n",
       "    .dataframe tbody tr th:only-of-type {\n",
       "        vertical-align: middle;\n",
       "    }\n",
       "\n",
       "    .dataframe tbody tr th {\n",
       "        vertical-align: top;\n",
       "    }\n",
       "\n",
       "    .dataframe thead th {\n",
       "        text-align: right;\n",
       "    }\n",
       "</style>\n",
       "<table border=\"1\" class=\"dataframe\">\n",
       "  <thead>\n",
       "    <tr style=\"text-align: right;\">\n",
       "      <th></th>\n",
       "      <th>latitude</th>\n",
       "      <th>longitude</th>\n",
       "      <th>up_movement_state</th>\n",
       "      <th>time</th>\n",
       "      <th>distance</th>\n",
       "      <th>velocity</th>\n",
       "    </tr>\n",
       "  </thead>\n",
       "  <tbody>\n",
       "    <tr>\n",
       "      <th>count</th>\n",
       "      <td>4.120762e+06</td>\n",
       "      <td>4.120762e+06</td>\n",
       "      <td>4.120762e+06</td>\n",
       "      <td>4.120762e+06</td>\n",
       "      <td>4.120762e+06</td>\n",
       "      <td>4120762.0</td>\n",
       "    </tr>\n",
       "    <tr>\n",
       "      <th>mean</th>\n",
       "      <td>5.081506e+01</td>\n",
       "      <td>9.330484e+00</td>\n",
       "      <td>8.922622e-02</td>\n",
       "      <td>8.135003e-01</td>\n",
       "      <td>3.539465e-01</td>\n",
       "      <td>0.0</td>\n",
       "    </tr>\n",
       "    <tr>\n",
       "      <th>std</th>\n",
       "      <td>2.299593e+00</td>\n",
       "      <td>2.952178e+00</td>\n",
       "      <td>2.850700e-01</td>\n",
       "      <td>9.588013e-01</td>\n",
       "      <td>1.206475e+00</td>\n",
       "      <td>0.0</td>\n",
       "    </tr>\n",
       "    <tr>\n",
       "      <th>min</th>\n",
       "      <td>3.803515e+01</td>\n",
       "      <td>-2.213348e+00</td>\n",
       "      <td>0.000000e+00</td>\n",
       "      <td>3.055556e-06</td>\n",
       "      <td>0.000000e+00</td>\n",
       "      <td>0.0</td>\n",
       "    </tr>\n",
       "    <tr>\n",
       "      <th>25%</th>\n",
       "      <td>4.946059e+01</td>\n",
       "      <td>7.167030e+00</td>\n",
       "      <td>0.000000e+00</td>\n",
       "      <td>2.658333e-01</td>\n",
       "      <td>0.000000e+00</td>\n",
       "      <td>0.0</td>\n",
       "    </tr>\n",
       "    <tr>\n",
       "      <th>50%</th>\n",
       "      <td>5.136495e+01</td>\n",
       "      <td>8.568300e+00</td>\n",
       "      <td>0.000000e+00</td>\n",
       "      <td>1.066667e+00</td>\n",
       "      <td>0.000000e+00</td>\n",
       "      <td>0.0</td>\n",
       "    </tr>\n",
       "    <tr>\n",
       "      <th>75%</th>\n",
       "      <td>5.166383e+01</td>\n",
       "      <td>1.108817e+01</td>\n",
       "      <td>0.000000e+00</td>\n",
       "      <td>1.066667e+00</td>\n",
       "      <td>2.342199e-02</td>\n",
       "      <td>0.0</td>\n",
       "    </tr>\n",
       "    <tr>\n",
       "      <th>max</th>\n",
       "      <td>6.780103e+01</td>\n",
       "      <td>2.865417e+01</td>\n",
       "      <td>1.000000e+00</td>\n",
       "      <td>7.205000e+01</td>\n",
       "      <td>1.000000e+01</td>\n",
       "      <td>0.0</td>\n",
       "    </tr>\n",
       "  </tbody>\n",
       "</table>\n",
       "</div>"
      ],
      "text/plain": [
       "           latitude     longitude  up_movement_state          time  \\\n",
       "count  4.120762e+06  4.120762e+06       4.120762e+06  4.120762e+06   \n",
       "mean   5.081506e+01  9.330484e+00       8.922622e-02  8.135003e-01   \n",
       "std    2.299593e+00  2.952178e+00       2.850700e-01  9.588013e-01   \n",
       "min    3.803515e+01 -2.213348e+00       0.000000e+00  3.055556e-06   \n",
       "25%    4.946059e+01  7.167030e+00       0.000000e+00  2.658333e-01   \n",
       "50%    5.136495e+01  8.568300e+00       0.000000e+00  1.066667e+00   \n",
       "75%    5.166383e+01  1.108817e+01       0.000000e+00  1.066667e+00   \n",
       "max    6.780103e+01  2.865417e+01       1.000000e+00  7.205000e+01   \n",
       "\n",
       "           distance   velocity  \n",
       "count  4.120762e+06  4120762.0  \n",
       "mean   3.539465e-01        0.0  \n",
       "std    1.206475e+00        0.0  \n",
       "min    0.000000e+00        0.0  \n",
       "25%    0.000000e+00        0.0  \n",
       "50%    0.000000e+00        0.0  \n",
       "75%    2.342199e-02        0.0  \n",
       "max    1.000000e+01        0.0  "
      ]
     },
     "execution_count": 8,
     "metadata": {},
     "output_type": "execute_result"
    }
   ],
   "source": [
    "wagon_info_distance.describe()"
   ]
  },
  {
   "cell_type": "code",
   "execution_count": 9,
   "id": "ff86a3fc",
   "metadata": {},
   "outputs": [],
   "source": [
    "# Consider anything larger than 1km as an outlier and assign a value of 1km.\n",
    "wagon_info_distance.loc[wagon_info_distance['distance'] > 1, 'distance'] = 1"
   ]
  },
  {
   "cell_type": "markdown",
   "id": "483bfece",
   "metadata": {},
   "source": [
    "The next step is to use a one-dimensional clustering of this feature to analyze the distribution of this feature. Determine the optimal number of classifications using the elbow function"
   ]
  },
  {
   "cell_type": "code",
   "execution_count": 10,
   "id": "2b453364",
   "metadata": {},
   "outputs": [
    {
     "data": {
      "image/png": "[encoded data removed]",
      "text/plain": [
       "<Figure size 432x288 with 1 Axes>"
      ]
     },
     "metadata": {
      "needs_background": "light"
     },
     "output_type": "display_data"
    }
   ],
   "source": [
    "Y = wagon_info_distance['distance']\n",
    "X = Y.values.reshape(-1,1)\n",
    "K = range(1, 5)\n",
    "meandistortions = []\n",
    "for k in K:\n",
    "    kmeans = KMeans(n_clusters=k)\n",
    "    kmeans.fit(X)\n",
    "    meandistortions.append(sum(np.min(cdist(X, kmeans.cluster_centers_, 'euclidean'), axis=1))/X.shape[0])\n",
    "plt.plot(K, meandistortions, 'bx-')\n",
    "plt.xlabel('k')\n",
    "plt.ylabel('Average Dispersion')\n",
    "plt.title('Selecting k with the Elbow Method')\n",
    "plt.show()"
   ]
  },
  {
   "cell_type": "markdown",
   "id": "a5819db4",
   "metadata": {},
   "source": [
    "The elbow function shows that the data are most reasonably divided into two categories. "
   ]
  },
  {
   "cell_type": "code",
   "execution_count": 11,
   "id": "a2e94207",
   "metadata": {},
   "outputs": [
    {
     "data": {
      "image/png": "[encoded data removed]",
      "text/plain": [
       "<Figure size 432x288 with 1 Axes>"
      ]
     },
     "metadata": {
      "needs_background": "light"
     },
     "output_type": "display_data"
    }
   ],
   "source": [
    "cluster_id = KMeans(2).fit_predict(X.reshape(-1, 1))\n",
    "\n",
    "fig, ax = plt.subplots()\n",
    "bins = np.linspace(X.min(), X.max(), 40)\n",
    "for ii in np.unique(cluster_id):\n",
    "    subset = X[cluster_id==ii]\n",
    "    ax.hist(subset, bins=bins, alpha=0.5, label=f\"Cluster {ii}\")\n",
    "ax.legend()\n",
    "plt.show()"
   ]
  },
  {
   "cell_type": "code",
   "execution_count": 12,
   "id": "6245a6cb",
   "metadata": {},
   "outputs": [
    {
     "name": "stdout",
     "output_type": "stream",
     "text": [
      "0.4420415680453969 0.0\n"
     ]
    }
   ],
   "source": [
    "print(X[cluster_id==0].min(), X[cluster_id==1].min())"
   ]
  },
  {
   "cell_type": "markdown",
   "id": "0222c69d",
   "metadata": {},
   "source": [
    "Reassign a value to distance, the closer the distance is to 0, the better the measured position is."
   ]
  },
  {
   "cell_type": "code",
   "execution_count": 13,
   "id": "cb856434",
   "metadata": {},
   "outputs": [],
   "source": [
    "wagon_info_distance.loc[wagon_info_distance['distance'] <= 0.44,'distance'] = 0.1\n",
    "wagon_info_distance.loc[wagon_info_distance['distance'] > 0.44,'distance'] = 0\n",
    "wagon_info_distance['distance'] = 10 * wagon_info_distance['distance']"
   ]
  },
  {
   "cell_type": "markdown",
   "id": "94b4959e",
   "metadata": {},
   "source": [
    "Analyze the velocity in the same way."
   ]
  },
  {
   "cell_type": "code",
   "execution_count": 14,
   "id": "f23814e4",
   "metadata": {},
   "outputs": [
    {
     "data": {
      "image/png": "[encoded data removed]",
      "text/plain": [
       "<Figure size 432x288 with 1 Axes>"
      ]
     },
     "metadata": {
      "needs_background": "light"
     },
     "output_type": "display_data"
    }
   ],
   "source": [
    "Y = wagon_info_velocity['velocity']\n",
    "X = Y.values.reshape(-1,1)\n",
    "K = range(1, 5)\n",
    "meandistortions = []\n",
    "for k in K:\n",
    "    kmeans = KMeans(n_clusters=k)\n",
    "    kmeans.fit(X)\n",
    "    meandistortions.append(sum(np.min(cdist(X, kmeans.cluster_centers_, 'euclidean'), axis=1))/X.shape[0])\n",
    "plt.plot(K, meandistortions, 'bx-')\n",
    "plt.xlabel('k')\n",
    "plt.ylabel('Average Dispersion')\n",
    "plt.title('Selecting k with the Elbow Method')\n",
    "plt.show()"
   ]
  },
  {
   "cell_type": "markdown",
   "id": "43ef4ffb",
   "metadata": {},
   "source": [
    "Although the elbow function shows that the data are most reasonably divided into two categories. However, based on the frequency distribution histogram, we would like to divide velocity into four categories. Based on the clustering results, the velocity is reassigned, and those close to 120 and 0km/h are assigned a value of 0."
   ]
  },
  {
   "cell_type": "code",
   "execution_count": 15,
   "id": "42cf9caa",
   "metadata": {},
   "outputs": [
    {
     "data": {
      "image/png": "[encoded data removed]",
      "text/plain": [
       "<Figure size 432x288 with 1 Axes>"
      ]
     },
     "metadata": {
      "needs_background": "light"
     },
     "output_type": "display_data"
    }
   ],
   "source": [
    "cluster_id = KMeans(4).fit_predict(X.reshape(-1, 1))\n",
    "\n",
    "fig, ax = plt.subplots()\n",
    "bins = np.linspace(X.min(), X.max(), 40)\n",
    "for ii in np.unique(cluster_id):\n",
    "    subset = X[cluster_id==ii]\n",
    "    ax.hist(subset, bins=bins, alpha=0.5, label=f\"Cluster {ii}\")\n",
    "ax.legend()\n",
    "plt.show()"
   ]
  },
  {
   "cell_type": "code",
   "execution_count": 16,
   "id": "4e27c291",
   "metadata": {},
   "outputs": [],
   "source": [
    "wagon_info_velocity.loc[wagon_info_velocity['velocity'] < 3,'velocity'] = 0\n",
    "wagon_info_velocity.loc[wagon_info_velocity['velocity'] == 120,'velocity'] = 0\n",
    "wagon_info_velocity.loc[(wagon_info_velocity['velocity'] <= 20) & (wagon_info_velocity['velocity']>3),'velocity'] = 0.5\n",
    "wagon_info_velocity.loc[(wagon_info_velocity['velocity'] > 100) & (wagon_info_velocity['velocity']<120),'velocity'] = 0.5\n",
    "wagon_info_velocity.loc[(wagon_info_velocity['velocity'] > 20) & (wagon_info_velocity['velocity'] <= 100),'velocity'] = 1"
   ]
  },
  {
   "cell_type": "markdown",
   "id": "2b455454",
   "metadata": {},
   "source": [
    "Combining the speed and distance features into 'velocity_distance_Normalization', **1** indicates good network quality and **0** indicates bad."
   ]
  },
  {
   "cell_type": "code",
   "execution_count": 17,
   "id": "a5c358a7",
   "metadata": {},
   "outputs": [
    {
     "data": {
      "text/html": [
       "<div>\n",
       "<style scoped>\n",
       "    .dataframe tbody tr th:only-of-type {\n",
       "        vertical-align: middle;\n",
       "    }\n",
       "\n",
       "    .dataframe tbody tr th {\n",
       "        vertical-align: top;\n",
       "    }\n",
       "\n",
       "    .dataframe thead th {\n",
       "        text-align: right;\n",
       "    }\n",
       "</style>\n",
       "<table border=\"1\" class=\"dataframe\">\n",
       "  <thead>\n",
       "    <tr style=\"text-align: right;\">\n",
       "      <th></th>\n",
       "      <th>wagon_ID</th>\n",
       "      <th>latitude</th>\n",
       "      <th>longitude</th>\n",
       "      <th>up_movement_state</th>\n",
       "      <th>timestamp_measure_position</th>\n",
       "      <th>time</th>\n",
       "      <th>distance</th>\n",
       "      <th>velocity</th>\n",
       "      <th>distance_Normalization</th>\n",
       "      <th>velocity_Normalization</th>\n",
       "      <th>velocity_distance_Normalization</th>\n",
       "    </tr>\n",
       "  </thead>\n",
       "  <tbody>\n",
       "    <tr>\n",
       "      <th>3</th>\n",
       "      <td>'1009283287612899'</td>\n",
       "      <td>50.203655</td>\n",
       "      <td>7.592347</td>\n",
       "      <td>2.0</td>\n",
       "      <td>5 days 10:06:25</td>\n",
       "      <td>0.180278</td>\n",
       "      <td>0.0</td>\n",
       "      <td>1.0</td>\n",
       "      <td>0.0</td>\n",
       "      <td>1.0</td>\n",
       "      <td>1.0</td>\n",
       "    </tr>\n",
       "    <tr>\n",
       "      <th>4</th>\n",
       "      <td>'1009283287612899'</td>\n",
       "      <td>50.130585</td>\n",
       "      <td>7.736540</td>\n",
       "      <td>2.0</td>\n",
       "      <td>5 days 10:17:02</td>\n",
       "      <td>0.176944</td>\n",
       "      <td>0.0</td>\n",
       "      <td>1.0</td>\n",
       "      <td>0.0</td>\n",
       "      <td>1.0</td>\n",
       "      <td>1.0</td>\n",
       "    </tr>\n",
       "    <tr>\n",
       "      <th>6</th>\n",
       "      <td>'1009283287612899'</td>\n",
       "      <td>47.293739</td>\n",
       "      <td>5.036352</td>\n",
       "      <td>2.0</td>\n",
       "      <td>8 days 04:07:02</td>\n",
       "      <td>0.179722</td>\n",
       "      <td>0.0</td>\n",
       "      <td>1.0</td>\n",
       "      <td>0.0</td>\n",
       "      <td>1.0</td>\n",
       "      <td>1.0</td>\n",
       "    </tr>\n",
       "    <tr>\n",
       "      <th>13</th>\n",
       "      <td>'1017603200023941'</td>\n",
       "      <td>49.370914</td>\n",
       "      <td>8.066085</td>\n",
       "      <td>2.0</td>\n",
       "      <td>9 days 10:25:19</td>\n",
       "      <td>0.180556</td>\n",
       "      <td>0.0</td>\n",
       "      <td>1.0</td>\n",
       "      <td>0.0</td>\n",
       "      <td>1.0</td>\n",
       "      <td>1.0</td>\n",
       "    </tr>\n",
       "    <tr>\n",
       "      <th>14</th>\n",
       "      <td>'1017603200033940'</td>\n",
       "      <td>53.525555</td>\n",
       "      <td>9.990044</td>\n",
       "      <td>2.0</td>\n",
       "      <td>5 days 22:34:31</td>\n",
       "      <td>0.029722</td>\n",
       "      <td>0.0</td>\n",
       "      <td>0.5</td>\n",
       "      <td>0.0</td>\n",
       "      <td>0.5</td>\n",
       "      <td>0.5</td>\n",
       "    </tr>\n",
       "    <tr>\n",
       "      <th>...</th>\n",
       "      <td>...</td>\n",
       "      <td>...</td>\n",
       "      <td>...</td>\n",
       "      <td>...</td>\n",
       "      <td>...</td>\n",
       "      <td>...</td>\n",
       "      <td>...</td>\n",
       "      <td>...</td>\n",
       "      <td>...</td>\n",
       "      <td>...</td>\n",
       "      <td>...</td>\n",
       "    </tr>\n",
       "    <tr>\n",
       "      <th>4947732</th>\n",
       "      <td>'889603219874371'</td>\n",
       "      <td>49.440697</td>\n",
       "      <td>8.559687</td>\n",
       "      <td>0.0</td>\n",
       "      <td>5 days 00:44:18</td>\n",
       "      <td>14.484167</td>\n",
       "      <td>0.0</td>\n",
       "      <td>0.0</td>\n",
       "      <td>0.0</td>\n",
       "      <td>0.0</td>\n",
       "      <td>0.0</td>\n",
       "    </tr>\n",
       "    <tr>\n",
       "      <th>4947733</th>\n",
       "      <td>'889603220014371'</td>\n",
       "      <td>49.462383</td>\n",
       "      <td>8.512672</td>\n",
       "      <td>0.0</td>\n",
       "      <td>5 days 08:57:52</td>\n",
       "      <td>8.327222</td>\n",
       "      <td>0.0</td>\n",
       "      <td>0.0</td>\n",
       "      <td>0.0</td>\n",
       "      <td>0.0</td>\n",
       "      <td>0.0</td>\n",
       "    </tr>\n",
       "    <tr>\n",
       "      <th>4947734</th>\n",
       "      <td>'889603220014371'</td>\n",
       "      <td>52.390465</td>\n",
       "      <td>9.625400</td>\n",
       "      <td>0.0</td>\n",
       "      <td>7 days 17:37:46</td>\n",
       "      <td>22.603056</td>\n",
       "      <td>0.0</td>\n",
       "      <td>0.0</td>\n",
       "      <td>0.0</td>\n",
       "      <td>0.0</td>\n",
       "      <td>0.0</td>\n",
       "    </tr>\n",
       "    <tr>\n",
       "      <th>4947735</th>\n",
       "      <td>'889603220014371'</td>\n",
       "      <td>52.391792</td>\n",
       "      <td>9.639581</td>\n",
       "      <td>0.0</td>\n",
       "      <td>8 days 05:00:08</td>\n",
       "      <td>10.848889</td>\n",
       "      <td>1.0</td>\n",
       "      <td>0.0</td>\n",
       "      <td>1.0</td>\n",
       "      <td>0.0</td>\n",
       "      <td>1.0</td>\n",
       "    </tr>\n",
       "    <tr>\n",
       "      <th>4947737</th>\n",
       "      <td>'889603220014371'</td>\n",
       "      <td>52.379482</td>\n",
       "      <td>9.696486</td>\n",
       "      <td>1.0</td>\n",
       "      <td>8 days 05:04:27</td>\n",
       "      <td>0.038611</td>\n",
       "      <td>0.0</td>\n",
       "      <td>0.0</td>\n",
       "      <td>0.0</td>\n",
       "      <td>0.0</td>\n",
       "      <td>0.0</td>\n",
       "    </tr>\n",
       "  </tbody>\n",
       "</table>\n",
       "<p>4682854 rows × 11 columns</p>\n",
       "</div>"
      ],
      "text/plain": [
       "                   wagon_ID   latitude  longitude  up_movement_state  \\\n",
       "3        '1009283287612899'  50.203655   7.592347                2.0   \n",
       "4        '1009283287612899'  50.130585   7.736540                2.0   \n",
       "6        '1009283287612899'  47.293739   5.036352                2.0   \n",
       "13       '1017603200023941'  49.370914   8.066085                2.0   \n",
       "14       '1017603200033940'  53.525555   9.990044                2.0   \n",
       "...                     ...        ...        ...                ...   \n",
       "4947732   '889603219874371'  49.440697   8.559687                0.0   \n",
       "4947733   '889603220014371'  49.462383   8.512672                0.0   \n",
       "4947734   '889603220014371'  52.390465   9.625400                0.0   \n",
       "4947735   '889603220014371'  52.391792   9.639581                0.0   \n",
       "4947737   '889603220014371'  52.379482   9.696486                1.0   \n",
       "\n",
       "        timestamp_measure_position       time  distance  velocity  \\\n",
       "3                  5 days 10:06:25   0.180278       0.0       1.0   \n",
       "4                  5 days 10:17:02   0.176944       0.0       1.0   \n",
       "6                  8 days 04:07:02   0.179722       0.0       1.0   \n",
       "13                 9 days 10:25:19   0.180556       0.0       1.0   \n",
       "14                 5 days 22:34:31   0.029722       0.0       0.5   \n",
       "...                            ...        ...       ...       ...   \n",
       "4947732            5 days 00:44:18  14.484167       0.0       0.0   \n",
       "4947733            5 days 08:57:52   8.327222       0.0       0.0   \n",
       "4947734            7 days 17:37:46  22.603056       0.0       0.0   \n",
       "4947735            8 days 05:00:08  10.848889       1.0       0.0   \n",
       "4947737            8 days 05:04:27   0.038611       0.0       0.0   \n",
       "\n",
       "         distance_Normalization  velocity_Normalization  \\\n",
       "3                           0.0                     1.0   \n",
       "4                           0.0                     1.0   \n",
       "6                           0.0                     1.0   \n",
       "13                          0.0                     1.0   \n",
       "14                          0.0                     0.5   \n",
       "...                         ...                     ...   \n",
       "4947732                     0.0                     0.0   \n",
       "4947733                     0.0                     0.0   \n",
       "4947734                     0.0                     0.0   \n",
       "4947735                     1.0                     0.0   \n",
       "4947737                     0.0                     0.0   \n",
       "\n",
       "         velocity_distance_Normalization  \n",
       "3                                    1.0  \n",
       "4                                    1.0  \n",
       "6                                    1.0  \n",
       "13                                   1.0  \n",
       "14                                   0.5  \n",
       "...                                  ...  \n",
       "4947732                              0.0  \n",
       "4947733                              0.0  \n",
       "4947734                              0.0  \n",
       "4947735                              1.0  \n",
       "4947737                              0.0  \n",
       "\n",
       "[4682854 rows x 11 columns]"
      ]
     },
     "execution_count": 17,
     "metadata": {},
     "output_type": "execute_result"
    }
   ],
   "source": [
    "pd_new = pd.concat([wagon_info_velocity, wagon_info_distance], axis=0)\n",
    "pd_new['distance_Normalization'] = pd_new['distance'].fillna('0').astype(np.float32)\n",
    "pd_new['velocity_Normalization'] = pd_new['velocity'].fillna('0').astype(np.float32)\n",
    "pd_new['velocity_distance_Normalization'] = pd_new['velocity'] + pd_new['distance']\n",
    "pd_new"
   ]
  },
  {
   "cell_type": "code",
   "execution_count": 18,
   "id": "0ae4e102",
   "metadata": {},
   "outputs": [],
   "source": [
    "# save csv\n",
    "col_list = ['wagon_ID', 'latitude', 'longitude', 'timestamp_measure_position', 'velocity_distance_Normalization']\n",
    "pd_new = pd_new.loc[:,col_list].reset_index(drop=True)\n",
    "pd_new.to_csv('../../../data/Task2_celluar/feature_sv.csv',index=False)"
   ]
  },
  {
   "cell_type": "markdown",
   "id": "642ef49c",
   "metadata": {},
   "source": [
    "### feature 2: ratio\n",
    "Ratio here is an abstract concept. We count all points in the 0.1km range and in the 1km range of each point. Then we divide the value corresponding to 1km by the value corresponding to 0.1km. We call this value ratio. If ratio is too big, we can consider that the density of points within 0.1km of this point is significantly smaller than elsewhere. If ratio is too small, we can consider that the points within 1km of this point is not too much. Both situations indicate bad network quality.   "
   ]
  },
  {
   "cell_type": "code",
   "execution_count": 19,
   "id": "734a5ee0",
   "metadata": {},
   "outputs": [],
   "source": [
    "dtype={'wagon_ID': str,\n",
    "       'loading_state': str,\n",
    "       'loading_state_update': str,\n",
    "       'altitude': np.float16,\n",
    "       'latitude': np.float32,\n",
    "       'longitude': np.float32,\n",
    "       'signal_quality_satellite': np.float32,\n",
    "       'signal_quality_hdop': np.float32,\n",
    "       'determination_position': np.uint8,\n",
    "       'GNSS_velocity': np.float16,\n",
    "       'timestamp_measure_position': str,\n",
    "       'timestamp_transfer': str,\n",
    "       'movement_state': str,\n",
    "       'timestamp_measure_movement_state': str,\n",
    "       'timestamp_index': str,\n",
    "       'provider': np.uint8}\n",
    "\n",
    "use_cols=['wagon_ID',\n",
    "          'latitude',\n",
    "          'longitude',\n",
    "          'timestamp_measure_position',\n",
    "          'determination_position']\n",
    "\n",
    "# read csv\n",
    "df = pd.read_csv(\"../../../data/raw/01_211203_TUDA_data.csv\",usecols=use_cols,dtype=dtype)\n"
   ]
  },
  {
   "cell_type": "code",
   "execution_count": 20,
   "id": "96a708b5",
   "metadata": {},
   "outputs": [],
   "source": [
    "# Define a function. The function will retain the n-digit decimal part. For example, round_down(45.777,1) = 45.7,\n",
    "# round_down(45.777, 2) = 45.77\n",
    "def round_down(m,n):\n",
    "    a = math.floor(m*10**n)/(10**n)\n",
    "    return a  "
   ]
  },
  {
   "cell_type": "code",
   "execution_count": 21,
   "id": "a0a307e3",
   "metadata": {},
   "outputs": [],
   "source": [
    "# Use the above function for latitude and longitude\n",
    "df['la_1']=df.latitude.apply(lambda x: round_down(x,1))\n",
    "df['lo_1']=df.longitude.apply(lambda x: round_down(x,1))\n",
    "df['la_01']=df.latitude.apply(lambda x: round_down(x,2))\n",
    "df['lo_01']=df.longitude.apply(lambda x: round_down(x,2))"
   ]
  },
  {
   "cell_type": "code",
   "execution_count": 22,
   "id": "bac434fc",
   "metadata": {},
   "outputs": [],
   "source": [
    "# Count how many values are the same in total\n",
    "df['ratio_01']=df.groupby(['la_01','lo_01'],as_index=False)['la_01'].transform('count')\n",
    "df['ratio_1']=df.groupby(['la_1','lo_1'],as_index=False)['la_01'].transform('count')"
   ]
  },
  {
   "cell_type": "code",
   "execution_count": 23,
   "id": "fec17fab",
   "metadata": {},
   "outputs": [
    {
     "data": {
      "text/html": [
       "<div>\n",
       "<style scoped>\n",
       "    .dataframe tbody tr th:only-of-type {\n",
       "        vertical-align: middle;\n",
       "    }\n",
       "\n",
       "    .dataframe tbody tr th {\n",
       "        vertical-align: top;\n",
       "    }\n",
       "\n",
       "    .dataframe thead th {\n",
       "        text-align: right;\n",
       "    }\n",
       "</style>\n",
       "<table border=\"1\" class=\"dataframe\">\n",
       "  <thead>\n",
       "    <tr style=\"text-align: right;\">\n",
       "      <th></th>\n",
       "      <th>wagon_ID</th>\n",
       "      <th>latitude</th>\n",
       "      <th>longitude</th>\n",
       "      <th>determination_position</th>\n",
       "      <th>timestamp_measure_position</th>\n",
       "      <th>la_1</th>\n",
       "      <th>lo_1</th>\n",
       "      <th>la_01</th>\n",
       "      <th>lo_01</th>\n",
       "      <th>ratio_01</th>\n",
       "      <th>ratio_1</th>\n",
       "      <th>ratio_x</th>\n",
       "    </tr>\n",
       "  </thead>\n",
       "  <tbody>\n",
       "    <tr>\n",
       "      <th>12176691</th>\n",
       "      <td>'1017603230354522'</td>\n",
       "      <td>51.704350</td>\n",
       "      <td>6.979754</td>\n",
       "      <td>1</td>\n",
       "      <td>3 days 11:11:24</td>\n",
       "      <td>51.7</td>\n",
       "      <td>6.9</td>\n",
       "      <td>51.70</td>\n",
       "      <td>6.97</td>\n",
       "      <td>63</td>\n",
       "      <td>116</td>\n",
       "      <td>1.841270</td>\n",
       "    </tr>\n",
       "    <tr>\n",
       "      <th>12176692</th>\n",
       "      <td>'1017603248383943'</td>\n",
       "      <td>50.944016</td>\n",
       "      <td>7.020907</td>\n",
       "      <td>1</td>\n",
       "      <td>2 days 23:40:57</td>\n",
       "      <td>50.9</td>\n",
       "      <td>7.0</td>\n",
       "      <td>50.94</td>\n",
       "      <td>7.02</td>\n",
       "      <td>6</td>\n",
       "      <td>191566</td>\n",
       "      <td>31927.666667</td>\n",
       "    </tr>\n",
       "    <tr>\n",
       "      <th>12176693</th>\n",
       "      <td>'697603222334427'</td>\n",
       "      <td>52.248024</td>\n",
       "      <td>10.545093</td>\n",
       "      <td>1</td>\n",
       "      <td>3 days 14:49:47</td>\n",
       "      <td>52.2</td>\n",
       "      <td>10.5</td>\n",
       "      <td>52.24</td>\n",
       "      <td>10.54</td>\n",
       "      <td>10737</td>\n",
       "      <td>79125</td>\n",
       "      <td>7.369377</td>\n",
       "    </tr>\n",
       "    <tr>\n",
       "      <th>12176694</th>\n",
       "      <td>'697603213104425'</td>\n",
       "      <td>53.394966</td>\n",
       "      <td>10.054642</td>\n",
       "      <td>4</td>\n",
       "      <td>3 days 05:49:31</td>\n",
       "      <td>53.3</td>\n",
       "      <td>10.0</td>\n",
       "      <td>53.39</td>\n",
       "      <td>10.05</td>\n",
       "      <td>2295</td>\n",
       "      <td>60398</td>\n",
       "      <td>26.317211</td>\n",
       "    </tr>\n",
       "    <tr>\n",
       "      <th>12176695</th>\n",
       "      <td>'697603212906457'</td>\n",
       "      <td>49.418098</td>\n",
       "      <td>11.105467</td>\n",
       "      <td>1</td>\n",
       "      <td>3 days 19:18:45</td>\n",
       "      <td>49.4</td>\n",
       "      <td>11.1</td>\n",
       "      <td>49.41</td>\n",
       "      <td>11.10</td>\n",
       "      <td>6590</td>\n",
       "      <td>49988</td>\n",
       "      <td>7.585432</td>\n",
       "    </tr>\n",
       "  </tbody>\n",
       "</table>\n",
       "</div>"
      ],
      "text/plain": [
       "                    wagon_ID   latitude  longitude  determination_position  \\\n",
       "12176691  '1017603230354522'  51.704350   6.979754                       1   \n",
       "12176692  '1017603248383943'  50.944016   7.020907                       1   \n",
       "12176693   '697603222334427'  52.248024  10.545093                       1   \n",
       "12176694   '697603213104425'  53.394966  10.054642                       4   \n",
       "12176695   '697603212906457'  49.418098  11.105467                       1   \n",
       "\n",
       "         timestamp_measure_position  la_1  lo_1  la_01  lo_01  ratio_01  \\\n",
       "12176691            3 days 11:11:24  51.7   6.9  51.70   6.97        63   \n",
       "12176692            2 days 23:40:57  50.9   7.0  50.94   7.02         6   \n",
       "12176693            3 days 14:49:47  52.2  10.5  52.24  10.54     10737   \n",
       "12176694            3 days 05:49:31  53.3  10.0  53.39  10.05      2295   \n",
       "12176695            3 days 19:18:45  49.4  11.1  49.41  11.10      6590   \n",
       "\n",
       "          ratio_1       ratio_x  \n",
       "12176691      116      1.841270  \n",
       "12176692   191566  31927.666667  \n",
       "12176693    79125      7.369377  \n",
       "12176694    60398     26.317211  \n",
       "12176695    49988      7.585432  "
      ]
     },
     "execution_count": 23,
     "metadata": {},
     "output_type": "execute_result"
    }
   ],
   "source": [
    "# ratio_1/ratio_01 indicates ratio_x. For example, when lat = 45.777, la_01 will equal 45.77 and la_1 equal 45.7. \n",
    "# For lat 45.777, ratio_1 indicates how many points in the range of 45.7-45.8. \n",
    "# ratio_01 indicates how many points in the range of 45.77-45.78.\n",
    "df['ratio_x']=df['ratio_1']/df['ratio_01']\n",
    "df.tail()"
   ]
  },
  {
   "cell_type": "code",
   "execution_count": 24,
   "id": "63869d36",
   "metadata": {},
   "outputs": [
    {
     "data": {
      "text/plain": [
       "count    1.217670e+07\n",
       "mean     3.533224e+01\n",
       "std      6.668789e+02\n",
       "min      1.000000e+00\n",
       "25%      2.877946e+00\n",
       "50%      5.836834e+00\n",
       "75%      1.401774e+01\n",
       "max      3.618740e+05\n",
       "Name: ratio_x, dtype: float64"
      ]
     },
     "execution_count": 24,
     "metadata": {},
     "output_type": "execute_result"
    }
   ],
   "source": [
    "df['ratio_x'].describe()"
   ]
  },
  {
   "cell_type": "code",
   "execution_count": 25,
   "id": "f02753d9",
   "metadata": {},
   "outputs": [
    {
     "data": {
      "text/plain": [
       "<AxesSubplot:xlabel='ratio_x_new', ylabel='Density'>"
      ]
     },
     "execution_count": 25,
     "metadata": {},
     "output_type": "execute_result"
    },
    {
     "data": {
      "image/png": "[encoded data removed]",
      "text/plain": [
       "<Figure size 864x432 with 1 Axes>"
      ]
     },
     "metadata": {
      "needs_background": "light"
     },
     "output_type": "display_data"
    }
   ],
   "source": [
    "# All values greater than 50 are assigned to 50\n",
    "df['ratio_x_new'] = df['ratio_x']\n",
    "df.loc[df['ratio_x_new']>=50,'ratio_x_new'] = 50\n",
    "plt.figure(figsize=(12, 6))\n",
    "sns.distplot(df['ratio_x_new'], norm_hist=False, color=\"b\", label=\"ratio_x\")"
   ]
  },
  {
   "cell_type": "code",
   "execution_count": 26,
   "id": "8db0a616",
   "metadata": {},
   "outputs": [],
   "source": [
    "# All values greater than 50 are assigned to 50\n",
    "df['ratio_x_new'] = df['ratio_x']\n",
    "df.loc[df['ratio_x_new']>=50,'ratio_x_new'] = 50"
   ]
  },
  {
   "cell_type": "code",
   "execution_count": 27,
   "id": "29820215",
   "metadata": {},
   "outputs": [
    {
     "data": {
      "image/png": "[encoded data removed]",
      "text/plain": [
       "<Figure size 432x288 with 1 Axes>"
      ]
     },
     "metadata": {
      "needs_background": "light"
     },
     "output_type": "display_data"
    }
   ],
   "source": [
    "# Elbow function for 1D dclustering\n",
    "Y = df['ratio_x_new']\n",
    "X = Y.values.reshape(-1,1)\n",
    "K = range(1, 7)\n",
    "meandistortions = []\n",
    "for k in K:\n",
    "    kmeans = KMeans(n_clusters=k)\n",
    "    kmeans.fit(X)\n",
    "    meandistortions.append(sum(np.min(cdist(X, kmeans.cluster_centers_, 'euclidean'), axis=1))/X.shape[0])\n",
    "plt.plot(K, meandistortions, 'bx-')\n",
    "plt.xlabel('k')\n",
    "plt.ylabel('Average Dispersion')\n",
    "plt.title('Selecting k with the Elbow Method')\n",
    "plt.show()"
   ]
  },
  {
   "cell_type": "markdown",
   "id": "18227ac1",
   "metadata": {},
   "source": [
    "Although the elbow function shows that the data are most reasonably divided into two categories. However, based on the frequency distribution histogram, we would like to divide velocity into five categories."
   ]
  },
  {
   "cell_type": "code",
   "execution_count": 28,
   "id": "240dfefc",
   "metadata": {},
   "outputs": [
    {
     "data": {
      "image/png": "[encoded data removed]",
      "text/plain": [
       "<Figure size 432x288 with 1 Axes>"
      ]
     },
     "metadata": {
      "needs_background": "light"
     },
     "output_type": "display_data"
    }
   ],
   "source": [
    "# 1D clustering\n",
    "X = Y.values.reshape(-1,1)\n",
    "cluster_id = KMeans(5).fit_predict(X.reshape(-1, 1))\n",
    "\n",
    "fig, ax = plt.subplots()\n",
    "bins = np.linspace(X.min(), X.max(), 40)\n",
    "for ii in np.unique(cluster_id):\n",
    "    subset = X[cluster_id==ii]\n",
    "    ax.hist(subset, bins=bins, alpha=0.5, label=f\"Cluster {ii}\")\n",
    "ax.legend()\n",
    "plt.show()"
   ]
  },
  {
   "cell_type": "code",
   "execution_count": 29,
   "id": "92333d31",
   "metadata": {},
   "outputs": [
    {
     "name": "stdout",
     "output_type": "stream",
     "text": [
      "6.376642335766423 26.583333333333332 14.48984771573604 1.0 41.48936170212766\n"
     ]
    }
   ],
   "source": [
    "print(X[cluster_id==0].min(),X[cluster_id==1].min(),X[cluster_id==2].min(),X[cluster_id==3].min(),X[cluster_id==4].min())"
   ]
  },
  {
   "cell_type": "code",
   "execution_count": 30,
   "id": "a2c07535",
   "metadata": {},
   "outputs": [],
   "source": [
    "# Assign values to different classes, 1 is the best network quality\n",
    "df.loc[df['ratio_x_new'] <= 6.34, 'ratio_x_new'] = 0\n",
    "df.loc[df['ratio_x_new'] > 41.27, 'ratio_x_new'] = 0\n",
    "df.loc[(df['ratio_x_new'] <= 14.34) & (df['ratio_x_new'] > 6.34), 'ratio_x_new'] = 1\n",
    "df.loc[(df['ratio_x_new'] > 14.34) & (df['ratio_x_new'] < 41.27), 'ratio_x_new'] = 0.5"
   ]
  },
  {
   "cell_type": "code",
   "execution_count": 31,
   "id": "1c2712e0",
   "metadata": {},
   "outputs": [],
   "source": [
    "df_writedown = df[df['determination_position'] == 4]\n",
    "df_writedown = df_writedown[['wagon_ID', 'latitude', 'longitude', 'timestamp_measure_position', 'ratio_x_new' ]]"
   ]
  },
  {
   "cell_type": "code",
   "execution_count": 32,
   "id": "2c2cbde5",
   "metadata": {},
   "outputs": [],
   "source": [
    "df_writedown.to_csv('../../../data/Task2_celluar/ratio01.csv', index=False)"
   ]
  },
  {
   "cell_type": "markdown",
   "id": "2e2ec2c2",
   "metadata": {},
   "source": [
    "### feature3: time gap"
   ]
  },
  {
   "cell_type": "markdown",
   "id": "fce0bd17",
   "metadata": {},
   "source": [
    "As already mentioned, the feature timegap does not carry too much information. The next step is to use a one-dimensional clustering of this feature to analyze the distribution of this feature."
   ]
  },
  {
   "cell_type": "code",
   "execution_count": 33,
   "id": "0a2bf866",
   "metadata": {},
   "outputs": [],
   "source": [
    "dtype = {'wagon_ID': str,\n",
    "         'timestamp_measure_position': str,\n",
    "         'timestamp_transfer': str,\n",
    "         'determination_position': int,\n",
    "         'timestamp_index': str,\n",
    "         'latitude': float,\n",
    "         'longitude': float}\n",
    "\n",
    "use_cols = ['determination_position',\n",
    "            'wagon_ID',\n",
    "            'timestamp_measure_position',\n",
    "            'timestamp_transfer',\n",
    "            'timestamp_index',\n",
    "            'latitude',\n",
    "            'longitude',\n",
    "            'movement_state',\n",
    "            'provider']"
   ]
  },
  {
   "cell_type": "code",
   "execution_count": 34,
   "id": "5c9d1802",
   "metadata": {},
   "outputs": [
    {
     "name": "stdout",
     "output_type": "stream",
     "text": [
      "Loading finished 1/4\n",
      "movement_state DONE 2/4\n",
      "concat DONE 3/4\n",
      "timestamp_index DONE 4/4\n",
      "Loading_finish\n"
     ]
    }
   ],
   "source": [
    "# read files with the defined function\n",
    "wagon_info = data_loader_sortvalue.load_raw_csv(1,use_cols)\n",
    "print('Loading_finish')"
   ]
  },
  {
   "cell_type": "code",
   "execution_count": 35,
   "id": "ef88e6f3",
   "metadata": {},
   "outputs": [],
   "source": [
    "# Extracting data\n",
    "wagon_info = wagon_info[wagon_info['determination_position'] == 4]"
   ]
  },
  {
   "cell_type": "code",
   "execution_count": 36,
   "id": "95830ca4",
   "metadata": {},
   "outputs": [],
   "source": [
    "# preprocessing\n",
    "wagon_info['timestamp_measure_position'] = wagon_info['timestamp_measure_position'].dropna()\n",
    "wagon_info['timestamp_transfer'] = wagon_info['timestamp_transfer'].dropna()\n",
    "wagon_info['timestamp_index'] = wagon_info['timestamp_index'].dropna()\n",
    "wagon_info['timestamp_measure_position'] = pd.to_timedelta(wagon_info['timestamp_measure_position'])\n",
    "wagon_info['timestamp_transfer'] = pd.to_timedelta(wagon_info['timestamp_transfer'])\n",
    "wagon_info['timestamp_index'] = pd.to_timedelta(wagon_info['timestamp_index'])"
   ]
  },
  {
   "cell_type": "code",
   "execution_count": 37,
   "id": "a6ca42fc",
   "metadata": {},
   "outputs": [],
   "source": [
    "# time_gap is the difference between 'timestamp_transfer' and 'timestamp_measure_position'\n",
    "wagon_info['time_gap'] = (wagon_info['timestamp_transfer'] - wagon_info['timestamp_measure_position']).apply(lambda x: x.total_seconds() / 3600)"
   ]
  },
  {
   "cell_type": "code",
   "execution_count": 38,
   "id": "bcd526fe",
   "metadata": {},
   "outputs": [
    {
     "data": {
      "text/html": [
       "<div>\n",
       "<style scoped>\n",
       "    .dataframe tbody tr th:only-of-type {\n",
       "        vertical-align: middle;\n",
       "    }\n",
       "\n",
       "    .dataframe tbody tr th {\n",
       "        vertical-align: top;\n",
       "    }\n",
       "\n",
       "    .dataframe thead th {\n",
       "        text-align: right;\n",
       "    }\n",
       "</style>\n",
       "<table border=\"1\" class=\"dataframe\">\n",
       "  <thead>\n",
       "    <tr style=\"text-align: right;\">\n",
       "      <th></th>\n",
       "      <th>latitude</th>\n",
       "      <th>longitude</th>\n",
       "      <th>determination_position</th>\n",
       "      <th>timestamp_measure_position</th>\n",
       "      <th>timestamp_transfer</th>\n",
       "      <th>movement_state</th>\n",
       "      <th>timestamp_index</th>\n",
       "      <th>provider</th>\n",
       "      <th>time_gap</th>\n",
       "    </tr>\n",
       "  </thead>\n",
       "  <tbody>\n",
       "    <tr>\n",
       "      <th>count</th>\n",
       "      <td>4.947738e+06</td>\n",
       "      <td>4.947738e+06</td>\n",
       "      <td>4947738.0</td>\n",
       "      <td>4947738</td>\n",
       "      <td>4947738</td>\n",
       "      <td>4.947738e+06</td>\n",
       "      <td>4947738</td>\n",
       "      <td>4.947738e+06</td>\n",
       "      <td>4.947738e+06</td>\n",
       "    </tr>\n",
       "    <tr>\n",
       "      <th>mean</th>\n",
       "      <td>4.936868e+01</td>\n",
       "      <td>9.391858e+00</td>\n",
       "      <td>4.0</td>\n",
       "      <td>6 days 09:35:35.977249078</td>\n",
       "      <td>6 days 15:50:15.520763762</td>\n",
       "      <td>4.954349e-01</td>\n",
       "      <td>6 days 15:50:23.602550296</td>\n",
       "      <td>3.683680e+01</td>\n",
       "      <td>6.244318e+00</td>\n",
       "    </tr>\n",
       "    <tr>\n",
       "      <th>std</th>\n",
       "      <td>2.717169e+00</td>\n",
       "      <td>2.963025e+00</td>\n",
       "      <td>0.0</td>\n",
       "      <td>1 days 23:34:22.807144737</td>\n",
       "      <td>2 days 00:07:34.338620302</td>\n",
       "      <td>9.085323e-01</td>\n",
       "      <td>2 days 00:07:34.114038086</td>\n",
       "      <td>8.884622e-01</td>\n",
       "      <td>7.490625e+00</td>\n",
       "    </tr>\n",
       "    <tr>\n",
       "      <th>min</th>\n",
       "      <td>3.803515e+01</td>\n",
       "      <td>-4.120857e+00</td>\n",
       "      <td>4.0</td>\n",
       "      <td>2 days 23:00:00</td>\n",
       "      <td>2 days 23:00:02.991000</td>\n",
       "      <td>0.000000e+00</td>\n",
       "      <td>2 days 23:00:06</td>\n",
       "      <td>3.200000e+01</td>\n",
       "      <td>0.000000e+00</td>\n",
       "    </tr>\n",
       "    <tr>\n",
       "      <th>25%</th>\n",
       "      <td>4.945983e+01</td>\n",
       "      <td>7.167376e+00</td>\n",
       "      <td>4.0</td>\n",
       "      <td>4 days 16:30:06</td>\n",
       "      <td>4 days 22:45:07.524000</td>\n",
       "      <td>0.000000e+00</td>\n",
       "      <td>4 days 22:45:10</td>\n",
       "      <td>3.700000e+01</td>\n",
       "      <td>5.734167e-01</td>\n",
       "    </tr>\n",
       "    <tr>\n",
       "      <th>50%</th>\n",
       "      <td>5.136495e+01</td>\n",
       "      <td>8.654176e+00</td>\n",
       "      <td>4.0</td>\n",
       "      <td>6 days 09:29:01</td>\n",
       "      <td>6 days 14:49:08.989000</td>\n",
       "      <td>0.000000e+00</td>\n",
       "      <td>6 days 14:49:13</td>\n",
       "      <td>3.700000e+01</td>\n",
       "      <td>3.964429e+00</td>\n",
       "    </tr>\n",
       "    <tr>\n",
       "      <th>75%</th>\n",
       "      <td>5.167260e+01</td>\n",
       "      <td>1.108489e+01</td>\n",
       "      <td>4.0</td>\n",
       "      <td>8 days 01:52:44</td>\n",
       "      <td>8 days 08:13:14.002000</td>\n",
       "      <td>1.000000e+00</td>\n",
       "      <td>8 days 08:13:20</td>\n",
       "      <td>3.700000e+01</td>\n",
       "      <td>9.846241e+00</td>\n",
       "    </tr>\n",
       "    <tr>\n",
       "      <th>max</th>\n",
       "      <td>6.780103e+01</td>\n",
       "      <td>2.865417e+01</td>\n",
       "      <td>4.0</td>\n",
       "      <td>9 days 22:59:59</td>\n",
       "      <td>10 days 10:00:28.555000</td>\n",
       "      <td>3.000000e+00</td>\n",
       "      <td>10 days 10:00:31</td>\n",
       "      <td>3.700000e+01</td>\n",
       "      <td>1.776100e+02</td>\n",
       "    </tr>\n",
       "  </tbody>\n",
       "</table>\n",
       "</div>"
      ],
      "text/plain": [
       "           latitude     longitude  determination_position  \\\n",
       "count  4.947738e+06  4.947738e+06               4947738.0   \n",
       "mean   4.936868e+01  9.391858e+00                     4.0   \n",
       "std    2.717169e+00  2.963025e+00                     0.0   \n",
       "min    3.803515e+01 -4.120857e+00                     4.0   \n",
       "25%    4.945983e+01  7.167376e+00                     4.0   \n",
       "50%    5.136495e+01  8.654176e+00                     4.0   \n",
       "75%    5.167260e+01  1.108489e+01                     4.0   \n",
       "max    6.780103e+01  2.865417e+01                     4.0   \n",
       "\n",
       "      timestamp_measure_position         timestamp_transfer  movement_state  \\\n",
       "count                    4947738                    4947738    4.947738e+06   \n",
       "mean   6 days 09:35:35.977249078  6 days 15:50:15.520763762    4.954349e-01   \n",
       "std    1 days 23:34:22.807144737  2 days 00:07:34.338620302    9.085323e-01   \n",
       "min              2 days 23:00:00     2 days 23:00:02.991000    0.000000e+00   \n",
       "25%              4 days 16:30:06     4 days 22:45:07.524000    0.000000e+00   \n",
       "50%              6 days 09:29:01     6 days 14:49:08.989000    0.000000e+00   \n",
       "75%              8 days 01:52:44     8 days 08:13:14.002000    1.000000e+00   \n",
       "max              9 days 22:59:59    10 days 10:00:28.555000    3.000000e+00   \n",
       "\n",
       "                 timestamp_index      provider      time_gap  \n",
       "count                    4947738  4.947738e+06  4.947738e+06  \n",
       "mean   6 days 15:50:23.602550296  3.683680e+01  6.244318e+00  \n",
       "std    2 days 00:07:34.114038086  8.884622e-01  7.490625e+00  \n",
       "min              2 days 23:00:06  3.200000e+01  0.000000e+00  \n",
       "25%              4 days 22:45:10  3.700000e+01  5.734167e-01  \n",
       "50%              6 days 14:49:13  3.700000e+01  3.964429e+00  \n",
       "75%              8 days 08:13:20  3.700000e+01  9.846241e+00  \n",
       "max             10 days 10:00:31  3.700000e+01  1.776100e+02  "
      ]
     },
     "execution_count": 38,
     "metadata": {},
     "output_type": "execute_result"
    }
   ],
   "source": [
    "wagon_info.describe()"
   ]
  },
  {
   "cell_type": "code",
   "execution_count": 39,
   "id": "dee06640",
   "metadata": {},
   "outputs": [
    {
     "data": {
      "image/png": "[encoded data removed]",
      "text/plain": [
       "<Figure size 432x288 with 1 Axes>"
      ]
     },
     "metadata": {
      "needs_background": "light"
     },
     "output_type": "display_data"
    }
   ],
   "source": [
    "# Determine the optimal number of classifications using the elbow function\n",
    "Y = wagon_info['time_gap']\n",
    "X = Y.values.reshape(-1,1)\n",
    "K = range(1, 5)\n",
    "meandistortions = []\n",
    "for k in K:\n",
    "    kmeans = KMeans(n_clusters=k)\n",
    "    kmeans.fit(X)\n",
    "    meandistortions.append(sum(np.min(cdist(X, kmeans.cluster_centers_, 'euclidean'), axis=1))/X.shape[0])\n",
    "plt.plot(K, meandistortions, 'bx-')\n",
    "plt.xlabel('k')\n",
    "plt.ylabel('Average Dispersion')\n",
    "plt.title('Selecting k with the Elbow Method')\n",
    "plt.show()"
   ]
  },
  {
   "cell_type": "markdown",
   "id": "397d8efa",
   "metadata": {},
   "source": [
    "Although the elbow function shows that the data are most reasonably divided into two categories. However, based on the frequency distribution histogram, we would like to divide time_gap into three categories. The shorter the time_gap, the better we consider the network signal quality."
   ]
  },
  {
   "cell_type": "code",
   "execution_count": 40,
   "id": "293673b1",
   "metadata": {},
   "outputs": [
    {
     "data": {
      "image/png": "[encoded data removed]",
      "text/plain": [
       "<Figure size 432x288 with 1 Axes>"
      ]
     },
     "metadata": {
      "needs_background": "light"
     },
     "output_type": "display_data"
    }
   ],
   "source": [
    "cluster_id = KMeans(3).fit_predict(X.reshape(-1, 1))\n",
    "\n",
    "fig, ax = plt.subplots()\n",
    "bins = np.linspace(X.min(), X.max(), 40)\n",
    "for ii in np.unique(cluster_id):\n",
    "    subset = X[cluster_id==ii]\n",
    "    ax.hist(subset, bins=bins, alpha=0.5, label=f\"Cluster {ii}\")\n",
    "ax.legend()\n",
    "plt.show()"
   ]
  },
  {
   "cell_type": "code",
   "execution_count": 41,
   "id": "5a4a77ab",
   "metadata": {},
   "outputs": [
    {
     "name": "stdout",
     "output_type": "stream",
     "text": [
      "0.0 8.490100833333333 38.2355925\n"
     ]
    }
   ],
   "source": [
    "# Show the boundaries of the classification\n",
    "print(X[cluster_id==0].min(),X[cluster_id==1].min(),X[cluster_id==2].min())"
   ]
  },
  {
   "cell_type": "code",
   "execution_count": 42,
   "id": "2133bf83",
   "metadata": {},
   "outputs": [],
   "source": [
    "# Assign values to each of the three groups. 1 means the best and 0 means the worst.\n",
    "wagon_info.loc[wagon_info['time_gap'] <= 8.47, 'time_gap'] = 1\n",
    "wagon_info.loc[(wagon_info['time_gap'] <= 37.68) & (wagon_info['time_gap'] > 8.47), 'time_gap'] = 0.5\n",
    "wagon_info.loc[wagon_info['time_gap'] > 37.68, 'time_gap'] = 0"
   ]
  },
  {
   "cell_type": "code",
   "execution_count": 43,
   "id": "dd7c482e",
   "metadata": {},
   "outputs": [],
   "source": [
    "# Save as csv\n",
    "col_list = ['wagon_ID', 'latitude', 'longitude', 'timestamp_measure_position', 'time_gap']\n",
    "pd_new = wagon_info.loc[:,col_list].reset_index(drop=True)\n",
    "pd_new.to_csv('../../../data/Task2_celluar/feature_timegap.csv')"
   ]
  }
 ],
 "metadata": {
  "kernelspec": {
   "display_name": "Python 3 (ipykernel)",
   "language": "python",
   "name": "python3"
  },
  "language_info": {
   "codemirror_mode": {
    "name": "ipython",
    "version": 3
   },
   "file_extension": ".py",
   "mimetype": "text/x-python",
   "name": "python",
   "nbconvert_exporter": "python",
   "pygments_lexer": "ipython3",
   "version": "3.9.7"
  }
 },
 "nbformat": 4,
 "nbformat_minor": 5
}
