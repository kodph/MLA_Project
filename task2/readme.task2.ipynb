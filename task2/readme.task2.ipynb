{
 "cells": [
  {
   "cell_type": "markdown",
   "id": "ef1153ff",
   "metadata": {},
   "source": [
    "# Task II: Data Mining"
   ]
  },
  {
   "cell_type": "markdown",
   "id": "51733b85",
   "metadata": {},
   "source": [
    "In the second part you will analyze the long-term dataset and apply more sophisticated data mining techniques. \n",
    "Try to combine the question with your understanding of the DB Cargo business. How can the answer to the task \n",
    "help DB Cargo specifically?"
   ]
  },
  {
   "cell_type": "markdown",
   "id": "b2a0c703",
   "metadata": {},
   "source": [
    "**Main objective**: Analyze the Mobile network and GNSS quality and coverage and show its structure in different \n",
    "regions in Europe within the long-term data."
   ]
  },
  {
   "cell_type": "markdown",
   "id": "0fad541c",
   "metadata": {},
   "source": [
    "2.1 Identify and combine relevant features (e.g. time stamps of data generation and transmission) and position data for your analysis  \n",
    "2.2 Analyze and plot the statistical behavior of your features  \n",
    "2.3 Be creative on the creation of new features as indicators for the Mobile network quality  \n",
    "2.4 Fuse the data with geographic information and display your results in a geo-specific heatmap  \n",
    "2.5 Be aware of appropriate aggregation and clustering of the high volume data  \n",
    "2.6 Evaluate the errors and uncertainties of your analysis  \n",
    "2.7 Interpret anomalies and trends in the analysis results  \n",
    "2.8 Optional: The integration of OpenRailway maps can help to interpret your results  \n",
    "2.9 If data-related difficulties or impossibilities arise concerning the task, describe reasons and possible solutions "
   ]
  },
  {
   "cell_type": "markdown",
   "id": "d03e45fe",
   "metadata": {},
   "source": [
    "Based on the main objective in Task II, we present the code in two parts, GNSS and Mobile Network. Each part contains the relevant code and results. "
   ]
  }
 ],
 "metadata": {
  "kernelspec": {
   "display_name": "Python 3 (ipykernel)",
   "language": "python",
   "name": "python3"
  },
  "language_info": {
   "codemirror_mode": {
    "name": "ipython",
    "version": 3
   },
   "file_extension": ".py",
   "mimetype": "text/x-python",
   "name": "python",
   "nbconvert_exporter": "python",
   "pygments_lexer": "ipython3",
   "version": "3.9.7"
  }
 },
 "nbformat": 4,
 "nbformat_minor": 5
}
